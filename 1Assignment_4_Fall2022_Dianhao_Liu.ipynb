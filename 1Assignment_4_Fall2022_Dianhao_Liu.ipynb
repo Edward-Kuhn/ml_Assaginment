{
  "cells": [
    {
      "cell_type": "markdown",
      "metadata": {
        "id": "view-in-github",
        "colab_type": "text"
      },
      "source": [
        "<a href=\"https://colab.research.google.com/github/Edward-Kuhn/ml_Assaginment/blob/main/1Assignment_4_Fall2022_Dianhao_Liu.ipynb\" target=\"_parent\"><img src=\"https://colab.research.google.com/assets/colab-badge.svg\" alt=\"Open In Colab\"/></a>"
      ]
    },
    {
      "cell_type": "markdown",
      "metadata": {
        "id": "Dd0qJjGWPDEY"
      },
      "source": [
        "# **ENGS 108 Fall 2022 Assignment 4**\n",
        "\n",
        "*Due October 11, 2022 at 11:59PM on Github*\n",
        "\n",
        "**Instructors:** George Cybenko\n",
        "\n",
        "**TAs:** Chase Yakaboski and Clement Nyanhongo\n",
        "\n",
        "\n",
        "---\n",
        "\n",
        "## **Rules and Requirements**\n",
        "\n",
        "\n",
        "1.   You are only allowed to use Python packages that are explicity imported in \n",
        "the assignment notebook or are standard (bultin) python libraries like random, os, sys, etc, (Standard Bultin Python libraries will have a Python.org documentation). For this assignment you may use:\n",
        "  *   [numpy](https://numpy.org/doc/stable/)\n",
        "  *   [pandas](https://pandas.pydata.org/pandas-docs/stable/index.html)\n",
        "  *   [scikit-learn](https://scikit-learn.org/stable/)\n",
        "  *   [matplotlib](https://matplotlib.org/)\n",
        "  *   [tensorflow](https://www.tensorflow.org/)\n",
        "\n",
        "2.   All code must be fit into the designated code or text blocks in the assignment notebook. They are indentified by a **TODO** qualifier.\n",
        "\n",
        "3. For analytical questions that don't require code, type your answer cleanly in Markdown. For help, see the [Google Colab Markdown Guide](https://colab.research.google.com/notebooks/markdown_guide.ipynb).\n",
        "\n",
        "---\n"
      ]
    },
    {
      "cell_type": "code",
      "execution_count": null,
      "metadata": {
        "id": "AD5eAz9acxe9",
        "colab": {
          "base_uri": "https://localhost:8080/"
        },
        "outputId": "6f4c06bf-aa9a-46c4-e77c-e2d3b68002e5"
      },
      "outputs": [
        {
          "output_type": "stream",
          "name": "stdout",
          "text": [
            "Mounted at /content/drive\n"
          ]
        }
      ],
      "source": [
        "''' Import Statements '''\n",
        "import os\n",
        "import csv\n",
        "import json\n",
        "import pickle\n",
        "import tqdm\n",
        "import numpy as np\n",
        "import pandas as pd\n",
        "import sklearn\n",
        "import tensorflow as tf\n",
        "import matplotlib.pyplot as plt\n",
        "\n",
        "from google.colab import drive\n",
        "drive.mount('/content/drive')"
      ]
    },
    {
      "cell_type": "markdown",
      "metadata": {
        "id": "aFcqjf9VXHfF"
      },
      "source": [
        "# Data Loading\n",
        "In this assignment we will be using the Yoga Postures Dataset from [Kaggle](https://www.kaggle.com/datasets/tr1gg3rtrash/yoga-posture-dataset) and will use the following code blocks to download the dataset directly to your Google Drive."
      ]
    },
    {
      "cell_type": "markdown",
      "metadata": {
        "id": "0tZ4gJ5zuZjP"
      },
      "source": [
        "## Creating a Kaggle API Token\n",
        "First we will need to download an API token from Kaggle in order to download the dataset, so our first step is to create a Kaggle account if you don't already have one.\n",
        "1. Create a Kaggle account by following the sign up instructions [here](https://www.kaggle.com/).\n",
        "2. Log into your Kaggle account and click your account icon on the upper righthand side. \n",
        "3. Then select **Account** from the dropdown/sidebar menu.\n",
        "4. Scroll down to the **API** section and select **Create New API Token**.\n",
        "5. This will download a JSON file called kaggle.json to your Downloads folder on your computer.\n",
        "6. Now run the following code block and when the **Browse** button appears, click it and select that kaggle.json file. "
      ]
    },
    {
      "cell_type": "code",
      "execution_count": null,
      "metadata": {
        "colab": {
          "base_uri": "https://localhost:8080/",
          "height": 74
        },
        "id": "gSQSg2HkXaHF",
        "outputId": "2bcc56cc-3f20-4f00-e969-b64755a03a8b"
      },
      "outputs": [
        {
          "output_type": "display_data",
          "data": {
            "text/plain": [
              "<IPython.core.display.HTML object>"
            ],
            "text/html": [
              "\n",
              "     <input type=\"file\" id=\"files-738c5fc4-f4eb-492a-a2cb-27fcdce633c3\" name=\"files[]\" multiple disabled\n",
              "        style=\"border:none\" />\n",
              "     <output id=\"result-738c5fc4-f4eb-492a-a2cb-27fcdce633c3\">\n",
              "      Upload widget is only available when the cell has been executed in the\n",
              "      current browser session. Please rerun this cell to enable.\n",
              "      </output>\n",
              "      <script>// Copyright 2017 Google LLC\n",
              "//\n",
              "// Licensed under the Apache License, Version 2.0 (the \"License\");\n",
              "// you may not use this file except in compliance with the License.\n",
              "// You may obtain a copy of the License at\n",
              "//\n",
              "//      http://www.apache.org/licenses/LICENSE-2.0\n",
              "//\n",
              "// Unless required by applicable law or agreed to in writing, software\n",
              "// distributed under the License is distributed on an \"AS IS\" BASIS,\n",
              "// WITHOUT WARRANTIES OR CONDITIONS OF ANY KIND, either express or implied.\n",
              "// See the License for the specific language governing permissions and\n",
              "// limitations under the License.\n",
              "\n",
              "/**\n",
              " * @fileoverview Helpers for google.colab Python module.\n",
              " */\n",
              "(function(scope) {\n",
              "function span(text, styleAttributes = {}) {\n",
              "  const element = document.createElement('span');\n",
              "  element.textContent = text;\n",
              "  for (const key of Object.keys(styleAttributes)) {\n",
              "    element.style[key] = styleAttributes[key];\n",
              "  }\n",
              "  return element;\n",
              "}\n",
              "\n",
              "// Max number of bytes which will be uploaded at a time.\n",
              "const MAX_PAYLOAD_SIZE = 100 * 1024;\n",
              "\n",
              "function _uploadFiles(inputId, outputId) {\n",
              "  const steps = uploadFilesStep(inputId, outputId);\n",
              "  const outputElement = document.getElementById(outputId);\n",
              "  // Cache steps on the outputElement to make it available for the next call\n",
              "  // to uploadFilesContinue from Python.\n",
              "  outputElement.steps = steps;\n",
              "\n",
              "  return _uploadFilesContinue(outputId);\n",
              "}\n",
              "\n",
              "// This is roughly an async generator (not supported in the browser yet),\n",
              "// where there are multiple asynchronous steps and the Python side is going\n",
              "// to poll for completion of each step.\n",
              "// This uses a Promise to block the python side on completion of each step,\n",
              "// then passes the result of the previous step as the input to the next step.\n",
              "function _uploadFilesContinue(outputId) {\n",
              "  const outputElement = document.getElementById(outputId);\n",
              "  const steps = outputElement.steps;\n",
              "\n",
              "  const next = steps.next(outputElement.lastPromiseValue);\n",
              "  return Promise.resolve(next.value.promise).then((value) => {\n",
              "    // Cache the last promise value to make it available to the next\n",
              "    // step of the generator.\n",
              "    outputElement.lastPromiseValue = value;\n",
              "    return next.value.response;\n",
              "  });\n",
              "}\n",
              "\n",
              "/**\n",
              " * Generator function which is called between each async step of the upload\n",
              " * process.\n",
              " * @param {string} inputId Element ID of the input file picker element.\n",
              " * @param {string} outputId Element ID of the output display.\n",
              " * @return {!Iterable<!Object>} Iterable of next steps.\n",
              " */\n",
              "function* uploadFilesStep(inputId, outputId) {\n",
              "  const inputElement = document.getElementById(inputId);\n",
              "  inputElement.disabled = false;\n",
              "\n",
              "  const outputElement = document.getElementById(outputId);\n",
              "  outputElement.innerHTML = '';\n",
              "\n",
              "  const pickedPromise = new Promise((resolve) => {\n",
              "    inputElement.addEventListener('change', (e) => {\n",
              "      resolve(e.target.files);\n",
              "    });\n",
              "  });\n",
              "\n",
              "  const cancel = document.createElement('button');\n",
              "  inputElement.parentElement.appendChild(cancel);\n",
              "  cancel.textContent = 'Cancel upload';\n",
              "  const cancelPromise = new Promise((resolve) => {\n",
              "    cancel.onclick = () => {\n",
              "      resolve(null);\n",
              "    };\n",
              "  });\n",
              "\n",
              "  // Wait for the user to pick the files.\n",
              "  const files = yield {\n",
              "    promise: Promise.race([pickedPromise, cancelPromise]),\n",
              "    response: {\n",
              "      action: 'starting',\n",
              "    }\n",
              "  };\n",
              "\n",
              "  cancel.remove();\n",
              "\n",
              "  // Disable the input element since further picks are not allowed.\n",
              "  inputElement.disabled = true;\n",
              "\n",
              "  if (!files) {\n",
              "    return {\n",
              "      response: {\n",
              "        action: 'complete',\n",
              "      }\n",
              "    };\n",
              "  }\n",
              "\n",
              "  for (const file of files) {\n",
              "    const li = document.createElement('li');\n",
              "    li.append(span(file.name, {fontWeight: 'bold'}));\n",
              "    li.append(span(\n",
              "        `(${file.type || 'n/a'}) - ${file.size} bytes, ` +\n",
              "        `last modified: ${\n",
              "            file.lastModifiedDate ? file.lastModifiedDate.toLocaleDateString() :\n",
              "                                    'n/a'} - `));\n",
              "    const percent = span('0% done');\n",
              "    li.appendChild(percent);\n",
              "\n",
              "    outputElement.appendChild(li);\n",
              "\n",
              "    const fileDataPromise = new Promise((resolve) => {\n",
              "      const reader = new FileReader();\n",
              "      reader.onload = (e) => {\n",
              "        resolve(e.target.result);\n",
              "      };\n",
              "      reader.readAsArrayBuffer(file);\n",
              "    });\n",
              "    // Wait for the data to be ready.\n",
              "    let fileData = yield {\n",
              "      promise: fileDataPromise,\n",
              "      response: {\n",
              "        action: 'continue',\n",
              "      }\n",
              "    };\n",
              "\n",
              "    // Use a chunked sending to avoid message size limits. See b/62115660.\n",
              "    let position = 0;\n",
              "    do {\n",
              "      const length = Math.min(fileData.byteLength - position, MAX_PAYLOAD_SIZE);\n",
              "      const chunk = new Uint8Array(fileData, position, length);\n",
              "      position += length;\n",
              "\n",
              "      const base64 = btoa(String.fromCharCode.apply(null, chunk));\n",
              "      yield {\n",
              "        response: {\n",
              "          action: 'append',\n",
              "          file: file.name,\n",
              "          data: base64,\n",
              "        },\n",
              "      };\n",
              "\n",
              "      let percentDone = fileData.byteLength === 0 ?\n",
              "          100 :\n",
              "          Math.round((position / fileData.byteLength) * 100);\n",
              "      percent.textContent = `${percentDone}% done`;\n",
              "\n",
              "    } while (position < fileData.byteLength);\n",
              "  }\n",
              "\n",
              "  // All done.\n",
              "  yield {\n",
              "    response: {\n",
              "      action: 'complete',\n",
              "    }\n",
              "  };\n",
              "}\n",
              "\n",
              "scope.google = scope.google || {};\n",
              "scope.google.colab = scope.google.colab || {};\n",
              "scope.google.colab._files = {\n",
              "  _uploadFiles,\n",
              "  _uploadFilesContinue,\n",
              "};\n",
              "})(self);\n",
              "</script> "
            ]
          },
          "metadata": {}
        },
        {
          "output_type": "stream",
          "name": "stdout",
          "text": [
            "Saving kaggle.json to kaggle.json\n"
          ]
        }
      ],
      "source": [
        "# Run this code block after creating a Kaggle API token as instructed above.\n",
        "! pip install -q kaggle\n",
        "from google.colab import files \n",
        "\n",
        "# Will ask you to upload kaggle.json file and remove any old ones.\n",
        "if os.path.exists('kaggle.json'):\n",
        "  os.remove('kaggle.json')\n",
        "files.upload()\n",
        "\n",
        "# Will create the appropriate directory structure\n",
        "if not os.path.exists('/root/.kaggle'):\n",
        "  ! mkdir ~/.kaggle \n",
        "! cp kaggle.json ~/.kaggle/\n",
        "! chmod 600 ~/.kaggle/kaggle.json"
      ]
    },
    {
      "cell_type": "markdown",
      "metadata": {
        "id": "qVOhg0Rxx1HB"
      },
      "source": [
        "## Downloading the Dataset\n",
        "\n",
        "7. Now we have downloaded our Kaggle credentials we can now download the Yoga Postures Dataset (or any other Kaggle dataset for that matter) directly into our Google Drive."
      ]
    },
    {
      "cell_type": "code",
      "execution_count": null,
      "metadata": {
        "id": "-r2Nya5yV3hW"
      },
      "outputs": [],
      "source": [
        "# Will ensure a train directory exists in your home and will create if it doesn't exist.\n",
        "if not os.path.exists('train'):\n",
        "  os.mkdir('train')\n",
        "# Will download the yoga postures dataset zip file if it does not exist in the train directory.\n",
        "if not os.path.exists('train/yoga-posture-dataset.zip'):\n",
        "  ! kaggle datasets download -p train tr1gg3rtrash/yoga-posture-dataset\n",
        "# Will check to see if the yoga postures zip file has been unzipped and will unzip the file if not.\n",
        "if not os.path.exists('train/Poses.json'):\n",
        "  ! unzip train/yoga-posture-dataset.zip -d train\n",
        "\n",
        "# To remove train folder and redownload uncomment the code below\n",
        "#!rm -rf train"
      ]
    },
    {
      "cell_type": "markdown",
      "metadata": {
        "id": "EyYOK_sA1rxB"
      },
      "source": [
        "## Viewing the Dataset Metadata\n",
        "Now let's inspect the dataset metadata, i.e. the information about each of the training examples, which is located in the Poses.json file."
      ]
    },
    {
      "cell_type": "code",
      "execution_count": null,
      "metadata": {
        "colab": {
          "base_uri": "https://localhost:8080/",
          "height": 206
        },
        "id": "bMVBxxYS1ra1",
        "outputId": "9be20603-0931-41fb-8ac0-a8a090786e70"
      },
      "outputs": [
        {
          "output_type": "execute_result",
          "data": {
            "text/plain": [
              "   id             sanskrit_name english_name  \\\n",
              "0   1                  Navasana         Boat   \n",
              "1   2            Ardha Navasana    Half-Boat   \n",
              "2   3               Dhanurasana          Bow   \n",
              "3   4  Setu Bandha Sarvangasana       Bridge   \n",
              "4   5           Baddha Konasana    Butterfly   \n",
              "\n",
              "                                             img_url  \n",
              "0  https://www.dropbox.com/s/4m64ztxkj8a4dab/boat...  \n",
              "1  https://www.dropbox.com/s/1nx0r94msxjwvyp/boat...  \n",
              "2  https://www.dropbox.com/s/wizj5kwxvez4c0a/bow....  \n",
              "3  https://www.dropbox.com/s/f1w64ybg4sn8ejt/brid...  \n",
              "4  https://www.dropbox.com/s/3h2pts6xbn28dh7/butt...  "
            ],
            "text/html": [
              "\n",
              "  <div id=\"df-e0fd0a07-e608-4989-8312-cb1451658942\">\n",
              "    <div class=\"colab-df-container\">\n",
              "      <div>\n",
              "<style scoped>\n",
              "    .dataframe tbody tr th:only-of-type {\n",
              "        vertical-align: middle;\n",
              "    }\n",
              "\n",
              "    .dataframe tbody tr th {\n",
              "        vertical-align: top;\n",
              "    }\n",
              "\n",
              "    .dataframe thead th {\n",
              "        text-align: right;\n",
              "    }\n",
              "</style>\n",
              "<table border=\"1\" class=\"dataframe\">\n",
              "  <thead>\n",
              "    <tr style=\"text-align: right;\">\n",
              "      <th></th>\n",
              "      <th>id</th>\n",
              "      <th>sanskrit_name</th>\n",
              "      <th>english_name</th>\n",
              "      <th>img_url</th>\n",
              "    </tr>\n",
              "  </thead>\n",
              "  <tbody>\n",
              "    <tr>\n",
              "      <th>0</th>\n",
              "      <td>1</td>\n",
              "      <td>Navasana</td>\n",
              "      <td>Boat</td>\n",
              "      <td>https://www.dropbox.com/s/4m64ztxkj8a4dab/boat...</td>\n",
              "    </tr>\n",
              "    <tr>\n",
              "      <th>1</th>\n",
              "      <td>2</td>\n",
              "      <td>Ardha Navasana</td>\n",
              "      <td>Half-Boat</td>\n",
              "      <td>https://www.dropbox.com/s/1nx0r94msxjwvyp/boat...</td>\n",
              "    </tr>\n",
              "    <tr>\n",
              "      <th>2</th>\n",
              "      <td>3</td>\n",
              "      <td>Dhanurasana</td>\n",
              "      <td>Bow</td>\n",
              "      <td>https://www.dropbox.com/s/wizj5kwxvez4c0a/bow....</td>\n",
              "    </tr>\n",
              "    <tr>\n",
              "      <th>3</th>\n",
              "      <td>4</td>\n",
              "      <td>Setu Bandha Sarvangasana</td>\n",
              "      <td>Bridge</td>\n",
              "      <td>https://www.dropbox.com/s/f1w64ybg4sn8ejt/brid...</td>\n",
              "    </tr>\n",
              "    <tr>\n",
              "      <th>4</th>\n",
              "      <td>5</td>\n",
              "      <td>Baddha Konasana</td>\n",
              "      <td>Butterfly</td>\n",
              "      <td>https://www.dropbox.com/s/3h2pts6xbn28dh7/butt...</td>\n",
              "    </tr>\n",
              "  </tbody>\n",
              "</table>\n",
              "</div>\n",
              "      <button class=\"colab-df-convert\" onclick=\"convertToInteractive('df-e0fd0a07-e608-4989-8312-cb1451658942')\"\n",
              "              title=\"Convert this dataframe to an interactive table.\"\n",
              "              style=\"display:none;\">\n",
              "        \n",
              "  <svg xmlns=\"http://www.w3.org/2000/svg\" height=\"24px\"viewBox=\"0 0 24 24\"\n",
              "       width=\"24px\">\n",
              "    <path d=\"M0 0h24v24H0V0z\" fill=\"none\"/>\n",
              "    <path d=\"M18.56 5.44l.94 2.06.94-2.06 2.06-.94-2.06-.94-.94-2.06-.94 2.06-2.06.94zm-11 1L8.5 8.5l.94-2.06 2.06-.94-2.06-.94L8.5 2.5l-.94 2.06-2.06.94zm10 10l.94 2.06.94-2.06 2.06-.94-2.06-.94-.94-2.06-.94 2.06-2.06.94z\"/><path d=\"M17.41 7.96l-1.37-1.37c-.4-.4-.92-.59-1.43-.59-.52 0-1.04.2-1.43.59L10.3 9.45l-7.72 7.72c-.78.78-.78 2.05 0 2.83L4 21.41c.39.39.9.59 1.41.59.51 0 1.02-.2 1.41-.59l7.78-7.78 2.81-2.81c.8-.78.8-2.07 0-2.86zM5.41 20L4 18.59l7.72-7.72 1.47 1.35L5.41 20z\"/>\n",
              "  </svg>\n",
              "      </button>\n",
              "      \n",
              "  <style>\n",
              "    .colab-df-container {\n",
              "      display:flex;\n",
              "      flex-wrap:wrap;\n",
              "      gap: 12px;\n",
              "    }\n",
              "\n",
              "    .colab-df-convert {\n",
              "      background-color: #E8F0FE;\n",
              "      border: none;\n",
              "      border-radius: 50%;\n",
              "      cursor: pointer;\n",
              "      display: none;\n",
              "      fill: #1967D2;\n",
              "      height: 32px;\n",
              "      padding: 0 0 0 0;\n",
              "      width: 32px;\n",
              "    }\n",
              "\n",
              "    .colab-df-convert:hover {\n",
              "      background-color: #E2EBFA;\n",
              "      box-shadow: 0px 1px 2px rgba(60, 64, 67, 0.3), 0px 1px 3px 1px rgba(60, 64, 67, 0.15);\n",
              "      fill: #174EA6;\n",
              "    }\n",
              "\n",
              "    [theme=dark] .colab-df-convert {\n",
              "      background-color: #3B4455;\n",
              "      fill: #D2E3FC;\n",
              "    }\n",
              "\n",
              "    [theme=dark] .colab-df-convert:hover {\n",
              "      background-color: #434B5C;\n",
              "      box-shadow: 0px 1px 3px 1px rgba(0, 0, 0, 0.15);\n",
              "      filter: drop-shadow(0px 1px 2px rgba(0, 0, 0, 0.3));\n",
              "      fill: #FFFFFF;\n",
              "    }\n",
              "  </style>\n",
              "\n",
              "      <script>\n",
              "        const buttonEl =\n",
              "          document.querySelector('#df-e0fd0a07-e608-4989-8312-cb1451658942 button.colab-df-convert');\n",
              "        buttonEl.style.display =\n",
              "          google.colab.kernel.accessAllowed ? 'block' : 'none';\n",
              "\n",
              "        async function convertToInteractive(key) {\n",
              "          const element = document.querySelector('#df-e0fd0a07-e608-4989-8312-cb1451658942');\n",
              "          const dataTable =\n",
              "            await google.colab.kernel.invokeFunction('convertToInteractive',\n",
              "                                                     [key], {});\n",
              "          if (!dataTable) return;\n",
              "\n",
              "          const docLinkHtml = 'Like what you see? Visit the ' +\n",
              "            '<a target=\"_blank\" href=https://colab.research.google.com/notebooks/data_table.ipynb>data table notebook</a>'\n",
              "            + ' to learn more about interactive tables.';\n",
              "          element.innerHTML = '';\n",
              "          dataTable['output_type'] = 'display_data';\n",
              "          await google.colab.output.renderOutput(dataTable, element);\n",
              "          const docLink = document.createElement('div');\n",
              "          docLink.innerHTML = docLinkHtml;\n",
              "          element.appendChild(docLink);\n",
              "        }\n",
              "      </script>\n",
              "    </div>\n",
              "  </div>\n",
              "  "
            ]
          },
          "metadata": {},
          "execution_count": 15
        }
      ],
      "source": [
        "# Let's load the yoga postures metadata\n",
        "import json\n",
        "with open('train/Poses.json', 'r') as metafile:\n",
        "  metadata = json.load(metafile)\n",
        "metadata = pd.DataFrame.from_dict(metadata['Poses'])\n",
        "metadata.head()"
      ]
    },
    {
      "cell_type": "markdown",
      "metadata": {
        "id": "mty9AB1bd5hH"
      },
      "source": [
        "## Pre-Problem: Segmenting Out the Test Data and Copying to Google Drive\n",
        "A part of this homework will be a competition. Included in your assignment github repo, there is a file called **test_images.csv**. This file holds all of the image paths that you are **NOT** allowed to use during *training*. Therefore, what we are going to do in this pre-problem is remove all the testing images from your train data folder. *Hint:* You naturally are still allowed/should use the test data to evaluate your model moving foward, you're just not allowed to use these images during training."
      ]
    },
    {
      "cell_type": "markdown",
      "metadata": {
        "id": "C8V1hjp0rhOw"
      },
      "source": [
        "### Task 1\n",
        "Using the code available in the Data loading section as a reference, write a command using the \"!\" colab operator to create a new directory called **test**."
      ]
    },
    {
      "cell_type": "code",
      "execution_count": null,
      "metadata": {
        "id": "IX8v3DzArOf6",
        "colab": {
          "base_uri": "https://localhost:8080/"
        },
        "outputId": "69ce5913-2af6-4c1c-bf18-096f710bbc35"
      },
      "outputs": [
        {
          "output_type": "stream",
          "name": "stdout",
          "text": [
            "mkdir: cannot create directory ‘test’: File exists\n"
          ]
        }
      ],
      "source": [
        "#TODO: Write one line of code to make a new directory called test (You might need to refresh your files view to see the change)\n",
        "! mkdir test"
      ]
    },
    {
      "cell_type": "markdown",
      "metadata": {
        "id": "T_Ln5qixfHwt"
      },
      "source": [
        "### Task 2\n",
        "Upload your **test_images.csv** file by running the following code block."
      ]
    },
    {
      "cell_type": "code",
      "execution_count": null,
      "metadata": {
        "id": "ZCY6MmC-6HhX",
        "colab": {
          "base_uri": "https://localhost:8080/",
          "height": 927
        },
        "outputId": "ee800b60-35ad-40a9-a173-da447ad93117"
      },
      "outputs": [
        {
          "output_type": "display_data",
          "data": {
            "text/plain": [
              "<IPython.core.display.HTML object>"
            ],
            "text/html": [
              "\n",
              "     <input type=\"file\" id=\"files-f4446252-cf26-44c7-9ebe-1bf5e0a94162\" name=\"files[]\" multiple disabled\n",
              "        style=\"border:none\" />\n",
              "     <output id=\"result-f4446252-cf26-44c7-9ebe-1bf5e0a94162\">\n",
              "      Upload widget is only available when the cell has been executed in the\n",
              "      current browser session. Please rerun this cell to enable.\n",
              "      </output>\n",
              "      <script>// Copyright 2017 Google LLC\n",
              "//\n",
              "// Licensed under the Apache License, Version 2.0 (the \"License\");\n",
              "// you may not use this file except in compliance with the License.\n",
              "// You may obtain a copy of the License at\n",
              "//\n",
              "//      http://www.apache.org/licenses/LICENSE-2.0\n",
              "//\n",
              "// Unless required by applicable law or agreed to in writing, software\n",
              "// distributed under the License is distributed on an \"AS IS\" BASIS,\n",
              "// WITHOUT WARRANTIES OR CONDITIONS OF ANY KIND, either express or implied.\n",
              "// See the License for the specific language governing permissions and\n",
              "// limitations under the License.\n",
              "\n",
              "/**\n",
              " * @fileoverview Helpers for google.colab Python module.\n",
              " */\n",
              "(function(scope) {\n",
              "function span(text, styleAttributes = {}) {\n",
              "  const element = document.createElement('span');\n",
              "  element.textContent = text;\n",
              "  for (const key of Object.keys(styleAttributes)) {\n",
              "    element.style[key] = styleAttributes[key];\n",
              "  }\n",
              "  return element;\n",
              "}\n",
              "\n",
              "// Max number of bytes which will be uploaded at a time.\n",
              "const MAX_PAYLOAD_SIZE = 100 * 1024;\n",
              "\n",
              "function _uploadFiles(inputId, outputId) {\n",
              "  const steps = uploadFilesStep(inputId, outputId);\n",
              "  const outputElement = document.getElementById(outputId);\n",
              "  // Cache steps on the outputElement to make it available for the next call\n",
              "  // to uploadFilesContinue from Python.\n",
              "  outputElement.steps = steps;\n",
              "\n",
              "  return _uploadFilesContinue(outputId);\n",
              "}\n",
              "\n",
              "// This is roughly an async generator (not supported in the browser yet),\n",
              "// where there are multiple asynchronous steps and the Python side is going\n",
              "// to poll for completion of each step.\n",
              "// This uses a Promise to block the python side on completion of each step,\n",
              "// then passes the result of the previous step as the input to the next step.\n",
              "function _uploadFilesContinue(outputId) {\n",
              "  const outputElement = document.getElementById(outputId);\n",
              "  const steps = outputElement.steps;\n",
              "\n",
              "  const next = steps.next(outputElement.lastPromiseValue);\n",
              "  return Promise.resolve(next.value.promise).then((value) => {\n",
              "    // Cache the last promise value to make it available to the next\n",
              "    // step of the generator.\n",
              "    outputElement.lastPromiseValue = value;\n",
              "    return next.value.response;\n",
              "  });\n",
              "}\n",
              "\n",
              "/**\n",
              " * Generator function which is called between each async step of the upload\n",
              " * process.\n",
              " * @param {string} inputId Element ID of the input file picker element.\n",
              " * @param {string} outputId Element ID of the output display.\n",
              " * @return {!Iterable<!Object>} Iterable of next steps.\n",
              " */\n",
              "function* uploadFilesStep(inputId, outputId) {\n",
              "  const inputElement = document.getElementById(inputId);\n",
              "  inputElement.disabled = false;\n",
              "\n",
              "  const outputElement = document.getElementById(outputId);\n",
              "  outputElement.innerHTML = '';\n",
              "\n",
              "  const pickedPromise = new Promise((resolve) => {\n",
              "    inputElement.addEventListener('change', (e) => {\n",
              "      resolve(e.target.files);\n",
              "    });\n",
              "  });\n",
              "\n",
              "  const cancel = document.createElement('button');\n",
              "  inputElement.parentElement.appendChild(cancel);\n",
              "  cancel.textContent = 'Cancel upload';\n",
              "  const cancelPromise = new Promise((resolve) => {\n",
              "    cancel.onclick = () => {\n",
              "      resolve(null);\n",
              "    };\n",
              "  });\n",
              "\n",
              "  // Wait for the user to pick the files.\n",
              "  const files = yield {\n",
              "    promise: Promise.race([pickedPromise, cancelPromise]),\n",
              "    response: {\n",
              "      action: 'starting',\n",
              "    }\n",
              "  };\n",
              "\n",
              "  cancel.remove();\n",
              "\n",
              "  // Disable the input element since further picks are not allowed.\n",
              "  inputElement.disabled = true;\n",
              "\n",
              "  if (!files) {\n",
              "    return {\n",
              "      response: {\n",
              "        action: 'complete',\n",
              "      }\n",
              "    };\n",
              "  }\n",
              "\n",
              "  for (const file of files) {\n",
              "    const li = document.createElement('li');\n",
              "    li.append(span(file.name, {fontWeight: 'bold'}));\n",
              "    li.append(span(\n",
              "        `(${file.type || 'n/a'}) - ${file.size} bytes, ` +\n",
              "        `last modified: ${\n",
              "            file.lastModifiedDate ? file.lastModifiedDate.toLocaleDateString() :\n",
              "                                    'n/a'} - `));\n",
              "    const percent = span('0% done');\n",
              "    li.appendChild(percent);\n",
              "\n",
              "    outputElement.appendChild(li);\n",
              "\n",
              "    const fileDataPromise = new Promise((resolve) => {\n",
              "      const reader = new FileReader();\n",
              "      reader.onload = (e) => {\n",
              "        resolve(e.target.result);\n",
              "      };\n",
              "      reader.readAsArrayBuffer(file);\n",
              "    });\n",
              "    // Wait for the data to be ready.\n",
              "    let fileData = yield {\n",
              "      promise: fileDataPromise,\n",
              "      response: {\n",
              "        action: 'continue',\n",
              "      }\n",
              "    };\n",
              "\n",
              "    // Use a chunked sending to avoid message size limits. See b/62115660.\n",
              "    let position = 0;\n",
              "    do {\n",
              "      const length = Math.min(fileData.byteLength - position, MAX_PAYLOAD_SIZE);\n",
              "      const chunk = new Uint8Array(fileData, position, length);\n",
              "      position += length;\n",
              "\n",
              "      const base64 = btoa(String.fromCharCode.apply(null, chunk));\n",
              "      yield {\n",
              "        response: {\n",
              "          action: 'append',\n",
              "          file: file.name,\n",
              "          data: base64,\n",
              "        },\n",
              "      };\n",
              "\n",
              "      let percentDone = fileData.byteLength === 0 ?\n",
              "          100 :\n",
              "          Math.round((position / fileData.byteLength) * 100);\n",
              "      percent.textContent = `${percentDone}% done`;\n",
              "\n",
              "    } while (position < fileData.byteLength);\n",
              "  }\n",
              "\n",
              "  // All done.\n",
              "  yield {\n",
              "    response: {\n",
              "      action: 'complete',\n",
              "    }\n",
              "  };\n",
              "}\n",
              "\n",
              "scope.google = scope.google || {};\n",
              "scope.google.colab = scope.google.colab || {};\n",
              "scope.google.colab._files = {\n",
              "  _uploadFiles,\n",
              "  _uploadFilesContinue,\n",
              "};\n",
              "})(self);\n",
              "</script> "
            ]
          },
          "metadata": {}
        },
        {
          "output_type": "stream",
          "name": "stdout",
          "text": [
            "Saving test_images.csv to test_images (3).csv\n"
          ]
        },
        {
          "output_type": "execute_result",
          "data": {
            "text/plain": [
              "{'test_images.csv': b'Virabhadrasana Two/File41.png\\r\\nVirabhadrasana Two/File15.png\\r\\nVirabhadrasana Two/File49.png\\r\\nVirabhadrasana Two/File36.png\\r\\nVirabhadrasana Two/File29.png\\r\\nVirabhadrasana Two/File34.png\\r\\nVirabhadrasana Two/File14.png\\r\\nVirabhadrasana Two/File61.jpeg\\r\\nVirabhadrasana Two/File25.png\\r\\nVirabhadrasana Two/File28.png\\r\\nVirabhadrasana Two/File44.png\\r\\nVirabhadrasana Two/File13.png\\r\\nUpavistha Konasana/File8.jpeg\\r\\nUpavistha Konasana/File3.jpeg\\r\\nUpavistha Konasana/File6.jpeg\\r\\nSetu Bandha Sarvangasana/File65.jpeg\\r\\nSetu Bandha Sarvangasana/File60.jpg\\r\\nSetu Bandha Sarvangasana/File41.png\\r\\nSetu Bandha Sarvangasana/File50.jpg\\r\\nSetu Bandha Sarvangasana/File6.png\\r\\nSetu Bandha Sarvangasana/File23.png\\r\\nSetu Bandha Sarvangasana/File13.png\\r\\nSetu Bandha Sarvangasana/File48.jpg\\r\\nSetu Bandha Sarvangasana/File12.png\\r\\nSetu Bandha Sarvangasana/File15.png\\r\\nSetu Bandha Sarvangasana/File68.jpeg\\r\\nSetu Bandha Sarvangasana/File17.png\\r\\nSetu Bandha Sarvangasana/File4.png\\r\\nTrikonasana/File6.jpeg\\r\\nTrikonasana/File1.jpeg\\r\\nTrikonasana/File22.jpeg\\r\\nTrikonasana/File13.jpeg\\r\\nPadmasana/File55.png\\r\\nPadmasana/File64.png\\r\\nPadmasana/File21.png\\r\\nPadmasana/File12.jpg\\r\\nPadmasana/File76.jpeg\\r\\nPadmasana/File65.png\\r\\nPadmasana/File28.png\\r\\nPadmasana/File72.jpeg\\r\\nPadmasana/File51.png\\r\\nPadmasana/File54.jpg\\r\\nPadmasana/File43.jpg\\r\\nPadmasana/File6.png\\r\\nPadmasana/File36.png\\r\\nPadmasana/File60.png\\r\\nPadmasana/File34.png\\r\\nVrksasana/File17.png\\r\\nVrksasana/File58.png\\r\\nVrksasana/File31.png\\r\\nVrksasana/File63.jpeg\\r\\nVrksasana/File57.png\\r\\nVrksasana/File13.png\\r\\nVrksasana/File51.png\\r\\nVrksasana/File45.png\\r\\nVrksasana/File66.jpeg\\r\\nVrksasana/File12.png\\r\\nVrksasana/File48.png\\r\\nVrksasana/File35.png\\r\\nVrksasana/File52.png\\r\\nNavasana/File18.jpeg\\r\\nNavasana/File10.jpeg\\r\\nNavasana/File4.jpeg\\r\\nArdha Pincha Mayurasana/File32.png\\r\\nArdha Pincha Mayurasana/File33.png\\r\\nArdha Pincha Mayurasana/File18.png\\r\\nArdha Pincha Mayurasana/File10.png\\r\\nArdha Pincha Mayurasana/File53.jpeg\\r\\nArdha Pincha Mayurasana/File13.png\\r\\nArdha Pincha Mayurasana/File24.png\\r\\nArdha Pincha Mayurasana/File14.png\\r\\nArdha Pincha Mayurasana/File54.png\\r\\nArdha Pincha Mayurasana/File37.png\\r\\nParsvottanasana/File4.png\\r\\nParsvottanasana/File30.png\\r\\nParsvottanasana/File43.jpeg\\r\\nParsvottanasana/File18.png\\r\\nParsvottanasana/File20.png\\r\\nParsvottanasana/File2.png\\r\\nParsvottanasana/File12.png\\r\\nParsvottanasana/File6.png\\r\\nEka Pada Rajakapotasana/File7.png\\r\\nEka Pada Rajakapotasana/File13.png\\r\\nEka Pada Rajakapotasana/File46.jpeg\\r\\nEka Pada Rajakapotasana/File28.png\\r\\nEka Pada Rajakapotasana/File37.png\\r\\nEka Pada Rajakapotasana/File40.png\\r\\nEka Pada Rajakapotasana/File34.png\\r\\nEka Pada Rajakapotasana/File39.png\\r\\nEka Pada Rajakapotasana/File31.png\\r\\nEka Pada Rajakapotasana/File48.jpeg\\r\\nUrdhva Mukha Svsnssana/File13.png\\r\\nUrdhva Mukha Svsnssana/File52.png\\r\\nUrdhva Mukha Svsnssana/File54.png\\r\\nUrdhva Mukha Svsnssana/File5.png\\r\\nUrdhva Mukha Svsnssana/File67.jpeg\\r\\nUrdhva Mukha Svsnssana/File44.png\\r\\nUrdhva Mukha Svsnssana/File66.jpeg\\r\\nUrdhva Mukha Svsnssana/File10.png\\r\\nUrdhva Mukha Svsnssana/File49.png\\r\\nUrdhva Mukha Svsnssana/File18.png\\r\\nUrdhva Mukha Svsnssana/File27.png\\r\\nUrdhva Mukha Svsnssana/File56.png\\r\\nUrdhva Mukha Svsnssana/File38.png\\r\\nArdha Navasana/File12.png\\r\\nArdha Navasana/File9.jpeg\\r\\nUstrasana/File54.png\\r\\nUstrasana/File28.png\\r\\nUstrasana/File71.png\\r\\nUstrasana/File44.png\\r\\nUstrasana/File65.png\\r\\nUstrasana/File61.png\\r\\nUstrasana/File77.png\\r\\nUstrasana/File59.png\\r\\nUstrasana/File12.png\\r\\nUstrasana/File89.jpeg\\r\\nUstrasana/File45.png\\r\\nUstrasana/File55.png\\r\\nUstrasana/File53.png\\r\\nUstrasana/File15.png\\r\\nUstrasana/File37.png\\r\\nUstrasana/File5.png\\r\\nUstrasana/File82.png\\r\\nUstrasana/File14.png\\r\\nUstrasana/File66.png\\r\\nVirabhadrasana One/File7.png\\r\\nVirabhadrasana One/File34.png\\r\\nVirabhadrasana One/File18.png\\r\\nVirabhadrasana One/File57.jpeg\\r\\nVirabhadrasana One/File15.png\\r\\nVirabhadrasana One/File43.png\\r\\nVirabhadrasana One/File6.png\\r\\nVirabhadrasana One/File63.jpeg\\r\\nVirabhadrasana One/File42.png\\r\\nVirabhadrasana One/File5.png\\r\\nVirabhadrasana One/File24.png\\r\\nVirabhadrasana One/File28.png\\r\\nUtthita Hasta Padangusthasana/File60.jpeg\\r\\nUtthita Hasta Padangusthasana/File3.png\\r\\nUtthita Hasta Padangusthasana/File56.png\\r\\nUtthita Hasta Padangusthasana/File17.png\\r\\nUtthita Hasta Padangusthasana/File15.png\\r\\nUtthita Hasta Padangusthasana/File18.png\\r\\nUtthita Hasta Padangusthasana/File2.png\\r\\nUtthita Hasta Padangusthasana/File28.png\\r\\nUtthita Hasta Padangusthasana/File61.png\\r\\nUtthita Hasta Padangusthasana/File11.png\\r\\nUtthita Hasta Padangusthasana/File57.png\\r\\nUtthita Hasta Padangusthasana/File31.png\\r\\nHanumanasana/File10.png\\r\\nHanumanasana/File8.png\\r\\nHanumanasana/File13.png\\r\\nHanumanasana/File2.png\\r\\nHanumanasana/File29.png\\r\\nHanumanasana/File12.png\\r\\nHanumanasana/File31.png\\r\\nHanumanasana/File40.jpeg\\r\\nAdho Mukha Vrksasana/File42.png\\r\\nAdho Mukha Vrksasana/File20.png\\r\\nAdho Mukha Vrksasana/File52.png\\r\\nAdho Mukha Vrksasana/File27.png\\r\\nAdho Mukha Vrksasana/File48.png\\r\\nAdho Mukha Vrksasana/File21.png\\r\\nAdho Mukha Vrksasana/File35.png\\r\\nAdho Mukha Vrksasana/File62.jpeg\\r\\nAdho Mukha Vrksasana/File10.png\\r\\nAdho Mukha Vrksasana/File29.png\\r\\nAdho Mukha Vrksasana/File59.png\\r\\nAdho Mukha Vrksasana/File5.png\\r\\nAdho Mukha Vrksasana/File2.png\\r\\nAshta Chandrasana/File10.jpeg\\r\\nAshta Chandrasana/File9.jpeg\\r\\nPaschimottanasana/File29.png\\r\\nPaschimottanasana/File51.png\\r\\nPaschimottanasana/File4.png\\r\\nPaschimottanasana/File52.png\\r\\nPaschimottanasana/File21.png\\r\\nPaschimottanasana/File10.png\\r\\nPaschimottanasana/File36.png\\r\\nPaschimottanasana/File37.png\\r\\nPaschimottanasana/File9.png\\r\\nPaschimottanasana/File53.png\\r\\nPaschimottanasana/File28.png\\r\\nPaschimottanasana/File15.png\\r\\nBaddha Konasana/File76.jpeg\\r\\nBaddha Konasana/File80.jpeg\\r\\nBaddha Konasana/File16.png\\r\\nBaddha Konasana/File7.png\\r\\nBaddha Konasana/File47.png\\r\\nBaddha Konasana/File37.png\\r\\nBaddha Konasana/File67.png\\r\\nBaddha Konasana/File73.jpeg\\r\\nBaddha Konasana/File44.png\\r\\nBaddha Konasana/File59.jpg\\r\\nBaddha Konasana/File22.png\\r\\nBaddha Konasana/File21.jpg\\r\\nBaddha Konasana/File9.png\\r\\nBaddha Konasana/File69.png\\r\\nBaddha Konasana/File78.jpeg\\r\\nBaddha Konasana/File29.png\\r\\nBitilasana/File68.png\\r\\nBitilasana/File78.png\\r\\nBitilasana/File1.png\\r\\nBitilasana/File17.png\\r\\nBitilasana/File74.png\\r\\nBitilasana/File43.png\\r\\nBitilasana/File21.png\\r\\nBitilasana/File12.png\\r\\nBitilasana/File24.png\\r\\nBitilasana/File3.png\\r\\nBitilasana/File13.png\\r\\nBitilasana/File33.png\\r\\nBitilasana/File60.png\\r\\nBitilasana/File56.png\\r\\nBitilasana/File39.png\\r\\nBitilasana/File7.png\\r\\nBitilasana/File34.png\\r\\nBitilasana/File63.png\\r\\nSalamba Sarvangasana/File12.png\\r\\nSalamba Sarvangasana/File24.png\\r\\nSalamba Sarvangasana/File65.png\\r\\nSalamba Sarvangasana/File20.png\\r\\nSalamba Sarvangasana/File56.png\\r\\nSalamba Sarvangasana/File69.jpeg\\r\\nSalamba Sarvangasana/File45.png\\r\\nSalamba Sarvangasana/File14.png\\r\\nSalamba Sarvangasana/File33.png\\r\\nSalamba Sarvangasana/File57.png\\r\\nSalamba Sarvangasana/File36.png\\r\\nSalamba Sarvangasana/File22.png\\r\\nSalamba Sarvangasana/File53.png\\r\\nSalamba Sarvangasana/File51.png\\r\\nUrdhva Dhanurasana/File33.png\\r\\nUrdhva Dhanurasana/File73.jpeg\\r\\nUrdhva Dhanurasana/File38.png\\r\\nUrdhva Dhanurasana/File12.png\\r\\nUrdhva Dhanurasana/File13.png\\r\\nUrdhva Dhanurasana/File63.png\\r\\nUrdhva Dhanurasana/File54.png\\r\\nUrdhva Dhanurasana/File17.png\\r\\nUrdhva Dhanurasana/File11.png\\r\\nUrdhva Dhanurasana/File69.jpeg\\r\\nUrdhva Dhanurasana/File27.png\\r\\nUrdhva Dhanurasana/File39.png\\r\\nUrdhva Dhanurasana/File35.jpeg\\r\\nUrdhva Dhanurasana/File14.png\\r\\nUttanasana/File37.png\\r\\nUttanasana/File11.png\\r\\nUttanasana/File45.png\\r\\nUttanasana/File41.png\\r\\nUttanasana/File55.png\\r\\nUttanasana/File10.png\\r\\nUttanasana/File9.png\\r\\nUttanasana/File29.png\\r\\nUttanasana/File35.png\\r\\nUttanasana/File30.png\\r\\nUttanasana/File67.jpeg\\r\\nUttanasana/File53.png\\r\\nUttanasana/File56.png\\r\\nUttanasana/File57.png\\r\\nBalasana/File11.png\\r\\nBalasana/File65.png\\r\\nBalasana/File64.png\\r\\nBalasana/File23.png\\r\\nBalasana/File36.png\\r\\nBalasana/File67.png\\r\\nBalasana/File3.png\\r\\nBalasana/File79.jpeg\\r\\nBalasana/File49.png\\r\\nBalasana/File69.png\\r\\nBalasana/File43.png\\r\\nBalasana/File9.png\\r\\nBalasana/File70.png\\r\\nBalasana/File7.png\\r\\nBalasana/File74.jpeg\\r\\nPhalakasana/File64.jpeg\\r\\nPhalakasana/File14.png\\r\\nPhalakasana/File58.jpeg\\r\\nPhalakasana/File6.png\\r\\nPhalakasana/File31.png\\r\\nPhalakasana/File26.png\\r\\nPhalakasana/File4.png\\r\\nPhalakasana/File22.png\\r\\nPhalakasana/File41.png\\r\\nPhalakasana/File28.png\\r\\nPhalakasana/File25.png\\r\\nPhalakasana/File5.png\\r\\nPhalakasana/File34.png\\r\\nPincha Mayurasana/File22.png\\r\\nPincha Mayurasana/File27.png\\r\\nPincha Mayurasana/File4.png\\r\\nPincha Mayurasana/File42.jpeg\\r\\nPincha Mayurasana/File21.png\\r\\nPincha Mayurasana/File17.png\\r\\nPincha Mayurasana/File30.png\\r\\nPincha Mayurasana/File41.jpeg\\r\\nHalasana/File41.png\\r\\nHalasana/File64.png\\r\\nHalasana/File12.png\\r\\nHalasana/File20.png\\r\\nHalasana/File71.jpeg\\r\\nHalasana/File66.png\\r\\nHalasana/File69.jpeg\\r\\nHalasana/File57.png\\r\\nHalasana/File62.png\\r\\nHalasana/File63.png\\r\\nHalasana/File61.png\\r\\nHalasana/File36.png\\r\\nHalasana/File58.png\\r\\nHalasana/File51.png\\r\\nAlanasana/File15.jpeg\\r\\nAlanasana/File8.jpeg\\r\\nAlanasana/File12.jpeg\\r\\nMalasana/File33.png\\r\\nMalasana/File43.png\\r\\nMalasana/File12.png\\r\\nMalasana/File9.png\\r\\nMalasana/File72.jpeg\\r\\nMalasana/File27.png\\r\\nMalasana/File56.png\\r\\nMalasana/File5.png\\r\\nMalasana/File52.png\\r\\nMalasana/File48.png\\r\\nMalasana/File10.png\\r\\nMalasana/File38.png\\r\\nMalasana/File34.png\\r\\nMalasana/File24.png\\r\\nUtthita Parsvakonasana/File1.png\\r\\nUtthita Parsvakonasana/File24.png\\r\\nUtthita Parsvakonasana/File18.png\\r\\nUtthita Parsvakonasana/File69.jpeg\\r\\nUtthita Parsvakonasana/File33.png\\r\\nUtthita Parsvakonasana/File17.png\\r\\nUtthita Parsvakonasana/File65.jpeg\\r\\nUtthita Parsvakonasana/File23.png\\r\\nUtthita Parsvakonasana/File34.png\\r\\nUtthita Parsvakonasana/File4.png\\r\\nUtthita Parsvakonasana/File37.png\\r\\nUtthita Parsvakonasana/File46.png\\r\\nUtthita Parsvakonasana/File22.jpeg\\r\\nAnjaneyasana/File10.png\\r\\nAnjaneyasana/File17.png\\r\\nAnjaneyasana/File16.png\\r\\nAnjaneyasana/File59.png\\r\\nAnjaneyasana/File45.png\\r\\nAnjaneyasana/File56.png\\r\\nAnjaneyasana/File19.png\\r\\nAnjaneyasana/File28.png\\r\\nAnjaneyasana/File57.png\\r\\nAnjaneyasana/File6.png\\r\\nAnjaneyasana/File70.jpeg\\r\\nAnjaneyasana/File37.png\\r\\nAnjaneyasana/File24.png\\r\\nAnjaneyasana/File15.png\\r\\nSivasana/File14.jpeg\\r\\nSivasana/File12.jpeg\\r\\nSivasana/File2.png\\r\\nSivasana/File19.jpeg\\r\\nDhanurasana/File41.png\\r\\nDhanurasana/File23.png\\r\\nDhanurasana/File54.png\\r\\nDhanurasana/File20.png\\r\\nDhanurasana/File8.png\\r\\nDhanurasana/File45.png\\r\\nDhanurasana/File1.png\\r\\nDhanurasana/File11.png\\r\\nDhanurasana/File48.jpeg\\r\\nDhanurasana/File25.png\\r\\nParsva Virabhadrasana/File6.jpeg\\r\\nParsva Virabhadrasana/File1.jpeg\\r\\nSalamba Bhujangasana/File58.jpeg\\r\\nSalamba Bhujangasana/File24.png\\r\\nSalamba Bhujangasana/File14.png\\r\\nSalamba Bhujangasana/File39.png\\r\\nSalamba Bhujangasana/File48.png\\r\\nSalamba Bhujangasana/File12.png\\r\\nSalamba Bhujangasana/File41.png\\r\\nSalamba Bhujangasana/File35.png\\r\\nSalamba Bhujangasana/File20.png\\r\\nSalamba Bhujangasana/File9.png\\r\\nSalamba Bhujangasana/File22.png\\r\\nSalamba Bhujangasana/File19.png\\r\\nArdha Chandrasana/File26.png\\r\\nArdha Chandrasana/File43.png\\r\\nArdha Chandrasana/File13.png\\r\\nArdha Chandrasana/File15.png\\r\\nArdha Chandrasana/File59.jpeg\\r\\nArdha Chandrasana/File50.png\\r\\nArdha Chandrasana/File32.png\\r\\nArdha Chandrasana/File34.png\\r\\nArdha Chandrasana/File3.png\\r\\nArdha Chandrasana/File44.png\\r\\nArdha Chandrasana/File52.png\\r\\nSupta Kapotasana/File2.png\\r\\nSupta Kapotasana/File1.jpeg\\r\\nUtkatasana/File76.jpeg\\r\\nUtkatasana/File8.png\\r\\nUtkatasana/File17.png\\r\\nUtkatasana/File61.png\\r\\nUtkatasana/File56.png\\r\\nUtkatasana/File80.jpeg\\r\\nUtkatasana/File33.png\\r\\nUtkatasana/File72.png\\r\\nUtkatasana/File34.png\\r\\nUtkatasana/File66.png\\r\\nUtkatasana/File46.png\\r\\nUtkatasana/File41.png\\r\\nUtkatasana/File74.jpeg\\r\\nUtkatasana/File19.png\\r\\nUtkatasana/File44.png\\r\\nUtkatasana/File51.png\\r\\nMarjaryasana/File11.png\\r\\nMarjaryasana/File50.jpeg\\r\\nMarjaryasana/File53.jpeg\\r\\nMarjaryasana/File30.png\\r\\nMarjaryasana/File31.png\\r\\nMarjaryasana/File52.jpeg\\r\\nMarjaryasana/File51.jpeg\\r\\nMarjaryasana/File14.png\\r\\nMarjaryasana/File29.png\\r\\nMarjaryasana/File4.png\\r\\nMarjaryasana/File36.png\\r\\nVirabhadrasana Three/File17.png\\r\\nVirabhadrasana Three/File35.png\\r\\nVirabhadrasana Three/File28.png\\r\\nVirabhadrasana Three/File62.jpeg\\r\\nVirabhadrasana Three/File29.png\\r\\nVirabhadrasana Three/File42.png\\r\\nVirabhadrasana Three/File15.png\\r\\nVirabhadrasana Three/File14.png\\r\\nVirabhadrasana Three/File39.png\\r\\nVirabhadrasana Three/File59.png\\r\\nVirabhadrasana Three/File21.png\\r\\nVirabhadrasana Three/File7.png\\r\\nVirabhadrasana Three/File54.png\\r\\nArdha Matsyendrasana/File72.png\\r\\nArdha Matsyendrasana/File42.png\\r\\nArdha Matsyendrasana/File87.png\\r\\nArdha Matsyendrasana/File45.png\\r\\nArdha Matsyendrasana/File17.png\\r\\nArdha Matsyendrasana/File24.png\\r\\nArdha Matsyendrasana/File79.png\\r\\nArdha Matsyendrasana/File68.png\\r\\nArdha Matsyendrasana/File59.png\\r\\nArdha Matsyendrasana/File20.png\\r\\nArdha Matsyendrasana/File40.png\\r\\nArdha Matsyendrasana/File12.png\\r\\nArdha Matsyendrasana/File37.png\\r\\nArdha Matsyendrasana/File27.png\\r\\nArdha Matsyendrasana/File51.png\\r\\nArdha Matsyendrasana/File63.png\\r\\nArdha Matsyendrasana/File96.jpeg\\r\\nArdha Matsyendrasana/File49.png\\r\\nArdha Matsyendrasana/File73.png\\r\\nVasisthasana/File74.png\\r\\nVasisthasana/File22.png\\r\\nVasisthasana/File76.jpeg\\r\\nVasisthasana/File28.png\\r\\nVasisthasana/File67.png\\r\\nVasisthasana/File73.png\\r\\nVasisthasana/File78.jpeg\\r\\nVasisthasana/File77.jpeg\\r\\nVasisthasana/File41.png\\r\\nVasisthasana/File26.png\\r\\nVasisthasana/File35.png\\r\\nVasisthasana/File63.png\\r\\nVasisthasana/File5.png\\r\\nVasisthasana/File59.png\\r\\nVasisthasana/File16.png\\r\\nVasisthasana/File25.png\\r\\nAdho Mukha Svanasana/File33.png\\r\\nAdho Mukha Svanasana/File13.png\\r\\nAdho Mukha Svanasana/File63.png\\r\\nAdho Mukha Svanasana/File4.png\\r\\nAdho Mukha Svanasana/File54.png\\r\\nAdho Mukha Svanasana/File6.png\\r\\nAdho Mukha Svanasana/File2.png\\r\\nAdho Mukha Svanasana/File73.jpeg\\r\\nAdho Mukha Svanasana/File60.png\\r\\nAdho Mukha Svanasana/File68.png\\r\\nAdho Mukha Svanasana/File69.png\\r\\nAdho Mukha Svanasana/File21.png\\r\\nAdho Mukha Svanasana/File45.png\\r\\nAdho Mukha Svanasana/File57.png\\r\\nCamatkarasana/File23.png\\r\\nCamatkarasana/File5.png\\r\\nCamatkarasana/File33.png\\r\\nCamatkarasana/File60.jpeg\\r\\nCamatkarasana/File34.png\\r\\nCamatkarasana/File55.jpeg\\r\\nCamatkarasana/File15.png\\r\\nCamatkarasana/File35.png\\r\\nCamatkarasana/File56.jpeg\\r\\nCamatkarasana/File24.png\\r\\nCamatkarasana/File54.png\\r\\nCamatkarasana/File61.jpeg\\r\\nGarudasana/File28.png\\r\\nGarudasana/File5.png\\r\\nGarudasana/File83.jpeg\\r\\nGarudasana/File48.png\\r\\nGarudasana/File41.png\\r\\nGarudasana/File44.png\\r\\nGarudasana/File82.jpeg\\r\\nGarudasana/File50.png\\r\\nGarudasana/File38.png\\r\\nGarudasana/File31.png\\r\\nGarudasana/File9.png\\r\\nGarudasana/File47.png\\r\\nGarudasana/File15.png\\r\\nGarudasana/File26.png\\r\\nGarudasana/File80.jpeg\\r\\nGarudasana/File65.png\\r\\nGarudasana/File30.png\\r\\nBakasana/File5.png\\r\\nBakasana/File63.png\\r\\nBakasana/File40.png\\r\\nBakasana/File18.png\\r\\nBakasana/File49.png\\r\\nBakasana/File68.png\\r\\nBakasana/File44.png\\r\\nBakasana/File58.png\\r\\nBakasana/File62.png\\r\\nBakasana/File60.png\\r\\nBakasana/File22.png\\r\\nBakasana/File39.png\\r\\nBakasana/File54.png\\r\\nBakasana/File72.png\\r\\nBakasana/File34.png\\r\\nBakasana/File30.png\\r\\n'}"
            ]
          },
          "metadata": {},
          "execution_count": 17
        }
      ],
      "source": [
        "files.upload()"
      ]
    },
    {
      "cell_type": "markdown",
      "metadata": {
        "id": "YFo9c6U2--hm"
      },
      "source": [
        "### Task 3\n",
        "Now let's write some code to copy over all these test images into the test folder we created as well as removing them from the train folder."
      ]
    },
    {
      "cell_type": "code",
      "execution_count": null,
      "metadata": {
        "id": "Mt00afQK_Ih7"
      },
      "outputs": [],
      "source": [
        "# First let's load the test_images.csv file\n",
        "with open('test_images.csv', 'r') as f_:\n",
        "  reader = csv.reader(f_)\n",
        "  test_image_paths = []\n",
        "  for row in reader:\n",
        "    test_image_paths.append(row[0])"
      ]
    },
    {
      "cell_type": "code",
      "execution_count": null,
      "metadata": {
        "id": "MYX2AlPPsIot"
      },
      "outputs": [],
      "source": [
        "# TODO: Now using these test image paths, copy over these files to the test directory and remove them from the train directory\n",
        "for test_path in test_image_paths:\n",
        "  train_path = os.path.join(\"train\", test_path)\n",
        "  dest_dir = os.path.join(\"test\", os.path.dirname(test_path))\n",
        "  if not os.path.exists(dest_dir):\n",
        "    ! mkdir -p \"$dest_dir\"\n",
        "  ! mv \"$train_path\" \"$dest_dir\"\n",
        "  # Do something... (hint see cp and rm commands using the colab terminal, i.e. the \"!\" operator)"
      ]
    },
    {
      "cell_type": "markdown",
      "metadata": {
        "id": "MQSiUHBUv_6Q"
      },
      "source": [
        "### Task 4\n",
        "Now that we have our test and training sets setup, let's copy them over to our Google Drive so that we don't have to run this pipeline again.\n",
        "\n",
        "1. Mount your Google Drive in colab in the standard way by running the following code block."
      ]
    },
    {
      "cell_type": "code",
      "execution_count": null,
      "metadata": {
        "id": "SZcnh30iwVVa"
      },
      "outputs": [],
      "source": [
        "#from google.colab import drive\n",
        "#drive.mount('/content/drive')"
      ]
    },
    {
      "cell_type": "markdown",
      "metadata": {
        "id": "h0MK7c3lwhz8"
      },
      "source": [
        "2. Now run the following command to copy over the training and test data to your desired location. Remember this location so you don't have to run this data loading section everytime you want to work on your homework."
      ]
    },
    {
      "cell_type": "code",
      "execution_count": null,
      "metadata": {
        "id": "jUnorFMiwWIb"
      },
      "outputs": [],
      "source": [
        "# DESIRED GOOGLE DRIVE DIRECTORY (CHANGE ME)\n",
        "DESIRED_GOOGLE_DRIVE_DIR = '/content/drive/MyDrive/data/yoga-poses'\n",
        "\n",
        "# Makes the desired directory. If you get an error then the directory likely already exists, so comment out this line.\n",
        "! mkdir -p $DESIRED_GOOGLE_DRIVE_DIR\n",
        "\n",
        "# Command to copy over all test and train data to desired google drive path\n",
        "! cp -r train $DESIRED_GOOGLE_DRIVE_DIR\n",
        "! cp -r test $DESIRED_GOOGLE_DRIVE_DIR"
      ]
    },
    {
      "cell_type": "markdown",
      "metadata": {
        "id": "zPvUebuqx7Zv"
      },
      "source": [
        "# Problem 1: Support Vector Machine Classification\n",
        "In this problem, you will be building support vector machines for some cool classification tasks."
      ]
    },
    {
      "cell_type": "markdown",
      "metadata": {
        "id": "GcidjoN9yfDn"
      },
      "source": [
        "## Task 1: Synthetic Data\n",
        " In this part we will be exploring the *circles* dataset. This dataset is avialable as a pickle file labeled *circles.pk* in your assignment repository under datasets. In this dataset you will have an $X$ array of 2 dimensional samples of the form $(x_1, x_2)$ and a $y$ array of each samples associated label. "
      ]
    },
    {
      "cell_type": "markdown",
      "metadata": {
        "id": "udSAfh76ypCS"
      },
      "source": [
        "### Part A\n",
        "Upload this dataset to your Google Drive and load the dataset into memory using the pickle module (*Hint: Refer to previous assignments to figure out how to do this*). Go through the circles dataset and create a scatterplot of the circles data using the y label as each sample's color to designate their respective class."
      ]
    },
    {
      "cell_type": "code",
      "execution_count": null,
      "metadata": {
        "id": "qbHlzNfazdB1"
      },
      "outputs": [],
      "source": [
        "# TODO: Change me\n",
        "CIRCLES_DATASET_PATH = '/content/drive/MyDrive/ml_Assignment_4/datasets/circles.pk'\n",
        "\n",
        "# TODO: Load the dataset using pickle load \n",
        "with open(CIRCLES_DATASET_PATH, 'rb') as circles_file:\n",
        "  # TODO: Load here...\n",
        "  circles = pickle.load(circles_file)"
      ]
    },
    {
      "cell_type": "code",
      "execution_count": null,
      "metadata": {
        "id": "cwLr5n7I0kUD",
        "colab": {
          "base_uri": "https://localhost:8080/",
          "height": 265
        },
        "outputId": "180ca6bf-2c0e-46f5-b352-d072a44ca372"
      },
      "outputs": [
        {
          "output_type": "display_data",
          "data": {
            "text/plain": [
              "<Figure size 432x288 with 1 Axes>"
            ],
            "image/png": "[encoded data removed]"
          },
          "metadata": {
            "needs_background": "light"
          }
        }
      ],
      "source": [
        "X, y = circles\n",
        "# TODO: Graph the data\n",
        "plt.scatter(X[:,0], X[:,1], c=y)\n",
        "plt.show()"
      ]
    },
    {
      "cell_type": "markdown",
      "metadata": {
        "id": "iaNdT9dO1GNM"
      },
      "source": [
        "### Part B\n",
        "Is this dataset linearly seperable? Explain why or why not?"
      ]
    },
    {
      "cell_type": "markdown",
      "metadata": {
        "id": "zm2CzCTG1JSr"
      },
      "source": [
        "**TODO:** Your answer should go here."
      ]
    },
    {
      "cell_type": "markdown",
      "metadata": {
        "id": "PFK8qmFg1o8V"
      },
      "source": [
        "### Part C\n",
        "Can you think of a transformation that can be applied to this dataset that could make it linearly seperable? If so, define what these transformation function(s) might look like, and if not explain why. *Hint: Think of a higher dimensional space.*"
      ]
    },
    {
      "cell_type": "markdown",
      "metadata": {
        "id": "ia1Jhy_L1uax"
      },
      "source": [
        "**TODO:** Your answer should go here."
      ]
    },
    {
      "cell_type": "markdown",
      "metadata": {
        "id": "WC5ZUiZD1-ew"
      },
      "source": [
        "### Part D\n",
        "If you where able to find a transformation in (Part C), create a suitable graph showing that the dataset is linearly seperable in this new feature space."
      ]
    },
    {
      "cell_type": "code",
      "execution_count": null,
      "metadata": {
        "id": "aY_vnGqB2FxG",
        "colab": {
          "base_uri": "https://localhost:8080/",
          "height": 248
        },
        "outputId": "782fa48c-bf57-468e-bc89-0b610b8a0aa0"
      },
      "outputs": [
        {
          "output_type": "display_data",
          "data": {
            "text/plain": [
              "<Figure size 432x288 with 1 Axes>"
            ],
            "image/png": "[encoded data removed]"
          },
          "metadata": {
            "needs_background": "light"
          }
        }
      ],
      "source": [
        "from sklearn.metrics import pairwise\n",
        "#TODO: Your code goes here.\n",
        "z = pairwise.rbf_kernel(X, [[0,0]])\n",
        "\n",
        "plt.axes(projection='3d').scatter3D(X[:,0], X[:,1], z, c=y)\n",
        "plt.show()"
      ]
    },
    {
      "cell_type": "markdown",
      "metadata": {
        "id": "DXBD02Z72XTn"
      },
      "source": [
        "## Task 2: Yoga Pose Classification\n",
        "What we accomplished in Part 1 is known as the kernel trick for SVMs. Now let's focus on how we can use this idea to accomplish non-linear classification on a real world dataset. In this next part and throughout the remainder of the assignment we will be using a yoga postures dataset. These images are PNG and JPEG images with many pixels. "
      ]
    },
    {
      "cell_type": "markdown",
      "metadata": {
        "id": "MgKTi7eS2ftd"
      },
      "source": [
        "### Part A\n",
        "You have been given a number of code skeletons throughout the course all of which load and preprocess the data for you. In this excerise tho, we will be doing the data loading manually as it is an important skill to learn. Write some code that will walk through the *Yoga Postures Dataset* directory structure and build a single large numpy array (Make sure to resize the image to something like (28, 28) or (32, 32) for the SVM and at minimum (71, 71) for the deep learning tasks) *Hint: You have been provided with a basic skeleton, study the operations of the code and finish the script.*"
      ]
    },
    {
      "cell_type": "code",
      "execution_count": null,
      "metadata": {
        "id": "-TqNTGVz3CWF"
      },
      "outputs": [],
      "source": [
        "from PIL import Image\n",
        "\n",
        "# TODO: Change Me\n",
        "PATH_TO_YOGA_TRAIN_DATA = '/content/drive/MyDrive/data/yoga-poses/train'\n",
        "PATH_TO_YOGA_TEST_DATA = '/content/drive/MyDrive/data/yoga-poses/test'\n",
        "\n",
        "# The dimensions of the resized image\n",
        "RESIZE = (71,71)\n",
        "# A map from integer ids to yoga pose categories (strings)\n",
        "pose_map = {}\n",
        "# The data lists that we will be filling in.\n",
        "X, y = [], []\n",
        "\n",
        "# Let's start our for loop (Just using tqdm to give us a pretty progress bar).\n",
        "class_id = 0\n",
        "for subfold in tqdm.tqdm(os.listdir(PATH_TO_YOGA_TRAIN_DATA), desc='Processing training images', leave=False):                                                                             \n",
        "  if os.path.isdir(os.path.join(PATH_TO_YOGA_TRAIN_DATA, subfold)):\n",
        "    # We have found image class folder so let's extract all example data\n",
        "    pose_map[class_id] = subfold\n",
        "    for img_name in os.listdir(os.path.join(PATH_TO_YOGA_TRAIN_DATA, subfold)):\n",
        "      #TODO: Preprocess and load image\n",
        "      image_train = Image.open(os.path.join(PATH_TO_YOGA_TRAIN_DATA, subfold) + '/' + img_name)\n",
        "      image_train = image_train.resize(RESIZE).convert('L')\n",
        "      image_train = np.array(image_train).flatten()\n",
        "      \n",
        "      X.append(image_train)\n",
        "      y.append(class_id)\n",
        "      #HINT: PNGs will have 4 channels and JPEGs will have 3 (THIS WILL CAUSE ISSUES!).\n",
        "      # Try to figure out what to do with this 4th channel. It could be as simple as deleting it...\n",
        "    class_id += 1\n",
        "\n",
        "X_train = np.array(X)\n",
        "y_train = np.array(y)\n",
        "\n",
        "# Let's load in the training data as well using the same methodology but with the pose_map built during the training data collection. \n",
        "pose_map_reverse = {pose: class_id for class_id, pose in pose_map.items()}\n",
        "X, y = [], []\n",
        "for subfold in tqdm.tqdm(os.listdir(PATH_TO_YOGA_TEST_DATA), desc='Processing test images', leave=False):                                                                             \n",
        "  if os.path.isdir(os.path.join(PATH_TO_YOGA_TEST_DATA, subfold)):\n",
        "    # We have found image class folder so let's extract all example data\n",
        "    class_id = pose_map_reverse[subfold]\n",
        "    for img_name in os.listdir(os.path.join(PATH_TO_YOGA_TEST_DATA, subfold)):\n",
        "      #TODO: Preprocess and load image\n",
        "      image_test = Image.open(os.path.join(PATH_TO_YOGA_TEST_DATA, subfold) + '/' + img_name)\n",
        "      image_test = image_test.resize(RESIZE).convert('L')\n",
        "      image_test = np.array(image_test).flatten()\n",
        "\n",
        "      X.append(image_test)\n",
        "      y.append(class_id)\n",
        "\n",
        "    class_id += 1\n",
        "\n",
        "X_test = np.array(X)\n",
        "y_test = np.array(y)"
      ]
    },
    {
      "cell_type": "markdown",
      "metadata": {
        "id": "F39zc6f-9UDr"
      },
      "source": [
        "### Part B\n",
        "Implement a SVM classifer using sklearn and report your classification results on the testing dataset. Make sure to flatten your X data from the three channels before passing into the SVM."
      ]
    },
    {
      "cell_type": "code",
      "execution_count": null,
      "metadata": {
        "id": "-fPEAkUB9jwh",
        "colab": {
          "base_uri": "https://localhost:8080/"
        },
        "outputId": "3b826306-9fc0-4598-bfcc-3175adfb6e46"
      },
      "outputs": [
        {
          "output_type": "stream",
          "name": "stdout",
          "text": [
            "Accurancy: 0.40264650283553877\n"
          ]
        }
      ],
      "source": [
        "from sklearn import svm\n",
        "from sklearn import metrics\n",
        "#TODO: Build and fit your SVM classifier and print your classification report\n",
        "\n",
        "svm = svm.SVC(kernel='rbf').fit(X_train, y_train)\n",
        "\n",
        "print('Accurancy:', metrics.accuracy_score(y_test, svm.predict(X_test)))"
      ]
    },
    {
      "cell_type": "markdown",
      "metadata": {
        "id": "Cq3fmX8K_l_N"
      },
      "source": [
        "# Problem 2: Introduction to TensorFlow\n",
        "In this problem, we will start working in tensorflow to build deep learning systems starting with fully-connected (FC) and convolutional (CNN) neural networks. We will focus on using the yoga postures dataset, ending this problem with a small class competition that may come with a prize..."
      ]
    },
    {
      "cell_type": "markdown",
      "metadata": {
        "id": "PJNX1muh_7IA"
      },
      "source": [
        "## Task 1: A Fully-Connected Neural Network"
      ]
    },
    {
      "cell_type": "markdown",
      "metadata": {
        "id": "oCkRDTbIA4vH"
      },
      "source": [
        "### Part A\n",
        "Using the yoga postures dataset, build a [tensorflow Data Dataset](https://www.tensorflow.org/api_docs/python/tf/data/Dataset) that is shuffled with a batch size of 10. *Hint: We did this in class.*"
      ]
    },
    {
      "cell_type": "code",
      "execution_count": null,
      "metadata": {
        "id": "HAUkPd1lAFHh",
        "colab": {
          "base_uri": "https://localhost:8080/"
        },
        "outputId": "0dbb2da9-069c-4e6a-9d4e-957102b7818f"
      },
      "outputs": [
        {
          "output_type": "stream",
          "name": "stdout",
          "text": [
            "<ShuffleDataset element_spec=(TensorSpec(shape=(None, 5041), dtype=tf.float32, name=None), TensorSpec(shape=(None,), dtype=tf.float32, name=None))>\n"
          ]
        }
      ],
      "source": [
        "#TODO: Your code goes here.\n",
        "from keras.preprocessing.image import ImageDataGenerator\n",
        "\n",
        "batch_size = 10\n",
        "\n",
        "imgs = tf.convert_to_tensor(X_train, dtype=tf.float32)\n",
        "labels = tf.convert_to_tensor(y_train, dtype = tf.float32)\n",
        "\n",
        "train = tf.data.Dataset.from_tensor_slices((imgs,labels))\n",
        "train = train.batch(10)\n",
        "train = train.shuffle(500)\n",
        "\n",
        "test_img = tf.convert_to_tensor(X_test, dtype=tf.float32)\n",
        "test_labels = tf.convert_to_tensor(y_test, dtype = tf.float32)\n",
        "\n",
        "test = tf.data.Dataset.from_tensor_slices((test_img, test_labels))\n",
        "test = test.batch(10)\n",
        "test = test.shuffle(500)\n",
        "\n",
        "print(train)"
      ]
    },
    {
      "cell_type": "markdown",
      "metadata": {
        "id": "UlLZH8fsA9NF"
      },
      "source": [
        "### Part B\n",
        "Build a two layer fully connected neural network of any size with a ReLu activation function and a final softmax layer."
      ]
    },
    {
      "cell_type": "code",
      "execution_count": null,
      "metadata": {
        "id": "3RXomqTaBLHw"
      },
      "outputs": [],
      "source": [
        "#TODO: Your code goes here. Make sure to add a Flatten layer first with the correct input shape.\n",
        "model = tf.keras.Sequential([\n",
        "    tf.keras.layers.Flatten(),\n",
        "    tf.keras.layers.Dense(128, activation = 'relu'),\n",
        "    tf.keras.layers.Dense(64, activation = 'relu'),\n",
        "    tf.keras.layers.Dense(64, activation = 'softmax'),\n",
        "    ])"
      ]
    },
    {
      "cell_type": "markdown",
      "metadata": {
        "id": "eR3MLamSBX3E"
      },
      "source": [
        "### Part C\n",
        "Compile your model with an appropriate loss function and optimizer. Briefly describe your choices."
      ]
    },
    {
      "cell_type": "code",
      "execution_count": null,
      "metadata": {
        "id": "tHRuyQk9Bddp"
      },
      "outputs": [],
      "source": [
        "#TODO: Your code goes here.\n",
        "model.compile(optimizer='adam', loss = tf.keras.losses.SparseCategoricalCrossentropy(from_logits=True), metrics = ['accuracy'])"
      ]
    },
    {
      "cell_type": "markdown",
      "metadata": {
        "id": "Zs0V_gmYBsc-"
      },
      "source": [
        "### Part D\n",
        "Train your model on the yoga pose training dataset. And report your accuracy on the testing dataset."
      ]
    },
    {
      "cell_type": "code",
      "execution_count": null,
      "metadata": {
        "id": "dmQcGH1TBxoP",
        "colab": {
          "base_uri": "https://localhost:8080/"
        },
        "outputId": "63dda92d-b079-4ad4-93d6-e5977cca34bb"
      },
      "outputs": [
        {
          "output_type": "stream",
          "name": "stdout",
          "text": [
            "Epoch 1/50\n"
          ]
        },
        {
          "output_type": "stream",
          "name": "stderr",
          "text": [
            "/usr/local/lib/python3.7/dist-packages/tensorflow/python/util/dispatch.py:1082: UserWarning: \"`sparse_categorical_crossentropy` received `from_logits=True`, but the `output` argument was produced by a sigmoid or softmax activation and thus does not represent logits. Was this intended?\"\n",
            "  return dispatch_target(*args, **kwargs)\n"
          ]
        },
        {
          "output_type": "stream",
          "name": "stdout",
          "text": [
            "223/223 [==============================] - 3s 3ms/step - loss: 146.2811 - accuracy: 0.0094\n",
            "Epoch 2/50\n",
            "223/223 [==============================] - 1s 2ms/step - loss: 4.1383 - accuracy: 0.0220\n",
            "Epoch 3/50\n",
            "223/223 [==============================] - 1s 2ms/step - loss: 4.0675 - accuracy: 0.0296\n",
            "Epoch 4/50\n",
            "223/223 [==============================] - 1s 2ms/step - loss: 4.0319 - accuracy: 0.0350\n",
            "Epoch 5/50\n",
            "223/223 [==============================] - 1s 2ms/step - loss: 4.0007 - accuracy: 0.0274\n",
            "Epoch 6/50\n",
            "223/223 [==============================] - 1s 3ms/step - loss: 3.9703 - accuracy: 0.0372\n",
            "Epoch 7/50\n",
            "223/223 [==============================] - 1s 2ms/step - loss: 3.9474 - accuracy: 0.0242\n",
            "Epoch 8/50\n",
            "223/223 [==============================] - 1s 2ms/step - loss: 3.9274 - accuracy: 0.0372\n",
            "Epoch 9/50\n",
            "223/223 [==============================] - 1s 3ms/step - loss: 10.5198 - accuracy: 0.0368\n",
            "Epoch 10/50\n",
            "223/223 [==============================] - 1s 3ms/step - loss: 3.9095 - accuracy: 0.0345\n",
            "Epoch 11/50\n",
            "223/223 [==============================] - 1s 2ms/step - loss: 3.8935 - accuracy: 0.0345\n",
            "Epoch 12/50\n",
            "223/223 [==============================] - 1s 2ms/step - loss: 3.8811 - accuracy: 0.0345\n",
            "Epoch 13/50\n",
            "223/223 [==============================] - 1s 2ms/step - loss: 3.8700 - accuracy: 0.0278\n",
            "Epoch 14/50\n",
            "223/223 [==============================] - 1s 2ms/step - loss: 3.8599 - accuracy: 0.0354\n",
            "Epoch 15/50\n",
            "223/223 [==============================] - 1s 2ms/step - loss: 3.8507 - accuracy: 0.0354\n",
            "Epoch 16/50\n",
            "223/223 [==============================] - 1s 2ms/step - loss: 3.8425 - accuracy: 0.0354\n",
            "Epoch 17/50\n",
            "223/223 [==============================] - 1s 2ms/step - loss: 3.8353 - accuracy: 0.0354\n",
            "Epoch 18/50\n",
            "223/223 [==============================] - 1s 3ms/step - loss: 3.8285 - accuracy: 0.0354\n",
            "Epoch 19/50\n",
            "223/223 [==============================] - 1s 3ms/step - loss: 3.8331 - accuracy: 0.0354\n",
            "Epoch 20/50\n",
            "223/223 [==============================] - 1s 2ms/step - loss: 3.8215 - accuracy: 0.0354\n",
            "Epoch 21/50\n",
            "223/223 [==============================] - 1s 2ms/step - loss: 3.8117 - accuracy: 0.0220\n",
            "Epoch 22/50\n",
            "223/223 [==============================] - 1s 3ms/step - loss: 3.8069 - accuracy: 0.0354\n",
            "Epoch 23/50\n",
            "223/223 [==============================] - 1s 2ms/step - loss: 3.8028 - accuracy: 0.0354\n",
            "Epoch 24/50\n",
            "223/223 [==============================] - 1s 2ms/step - loss: 3.8025 - accuracy: 0.0328\n",
            "Epoch 25/50\n",
            "223/223 [==============================] - 1s 2ms/step - loss: 3.7971 - accuracy: 0.0233\n",
            "Epoch 26/50\n",
            "223/223 [==============================] - 1s 3ms/step - loss: 3.7919 - accuracy: 0.0354\n",
            "Epoch 27/50\n",
            "223/223 [==============================] - 1s 2ms/step - loss: 3.7889 - accuracy: 0.0354\n",
            "Epoch 28/50\n",
            "223/223 [==============================] - 1s 2ms/step - loss: 3.7863 - accuracy: 0.0354\n",
            "Epoch 29/50\n",
            "223/223 [==============================] - 1s 2ms/step - loss: 3.7836 - accuracy: 0.0354\n",
            "Epoch 30/50\n",
            "223/223 [==============================] - 1s 2ms/step - loss: 3.7812 - accuracy: 0.0310\n",
            "Epoch 31/50\n",
            "223/223 [==============================] - 1s 2ms/step - loss: 3.7888 - accuracy: 0.0354\n",
            "Epoch 32/50\n",
            "223/223 [==============================] - 1s 2ms/step - loss: 3.7876 - accuracy: 0.0188\n",
            "Epoch 33/50\n",
            "223/223 [==============================] - 1s 2ms/step - loss: 7.7104 - accuracy: 0.0422\n",
            "Epoch 34/50\n",
            "223/223 [==============================] - 1s 2ms/step - loss: 3.7811 - accuracy: 0.0354\n",
            "Epoch 35/50\n",
            "223/223 [==============================] - 1s 2ms/step - loss: 3.7719 - accuracy: 0.0265\n",
            "Epoch 36/50\n",
            "223/223 [==============================] - 1s 3ms/step - loss: 3.7706 - accuracy: 0.0354\n",
            "Epoch 37/50\n",
            "223/223 [==============================] - 1s 3ms/step - loss: 3.7690 - accuracy: 0.0265\n",
            "Epoch 38/50\n",
            "223/223 [==============================] - 1s 2ms/step - loss: 3.7678 - accuracy: 0.0354\n",
            "Epoch 39/50\n",
            "223/223 [==============================] - 1s 2ms/step - loss: 3.7666 - accuracy: 0.0121\n",
            "Epoch 40/50\n",
            "223/223 [==============================] - 1s 2ms/step - loss: 3.7658 - accuracy: 0.0274\n",
            "Epoch 41/50\n",
            "223/223 [==============================] - 1s 3ms/step - loss: 3.7647 - accuracy: 0.0354\n",
            "Epoch 42/50\n",
            "223/223 [==============================] - 1s 3ms/step - loss: 3.7638 - accuracy: 0.0224\n",
            "Epoch 43/50\n",
            "223/223 [==============================] - 1s 3ms/step - loss: 3.7630 - accuracy: 0.0274\n",
            "Epoch 44/50\n",
            "223/223 [==============================] - 1s 3ms/step - loss: 3.7621 - accuracy: 0.0233\n",
            "Epoch 45/50\n",
            "223/223 [==============================] - 1s 3ms/step - loss: 3.7615 - accuracy: 0.0162\n",
            "Epoch 46/50\n",
            "223/223 [==============================] - 1s 3ms/step - loss: 3.7610 - accuracy: 0.0265\n",
            "Epoch 47/50\n",
            "223/223 [==============================] - 1s 2ms/step - loss: 3.7604 - accuracy: 0.0310\n",
            "Epoch 48/50\n",
            "223/223 [==============================] - 1s 3ms/step - loss: 3.7599 - accuracy: 0.0354\n",
            "Epoch 49/50\n",
            "223/223 [==============================] - 1s 3ms/step - loss: 3.7594 - accuracy: 0.0274\n",
            "Epoch 50/50\n",
            "223/223 [==============================] - 1s 2ms/step - loss: 3.7590 - accuracy: 0.0269\n"
          ]
        },
        {
          "output_type": "execute_result",
          "data": {
            "text/plain": [
              "<keras.callbacks.History at 0x7f471d09f6d0>"
            ]
          },
          "metadata": {},
          "execution_count": 24
        }
      ],
      "source": [
        "#TODO: Your code goes here. Hint: It's ok if the accuracy is not the best...\n",
        "model.fit(train, epochs=50)"
      ]
    },
    {
      "cell_type": "markdown",
      "metadata": {
        "id": "ZMw_u7qsFWCf"
      },
      "source": [
        "## Task 2: A Convolutional Neural Network\n",
        "CNNs perform notoriously well on image classification tasks, so we will study a simple implementation of this network and let you guys compete to see who finds the best architecture. "
      ]
    },
    {
      "cell_type": "markdown",
      "metadata": {
        "id": "OScsuOosFzqP"
      },
      "source": [
        "### Part A: Vanilla CNN\n",
        "Build, compile, and fit a CNN with the following network structure:\n",
        "* A total of 3 convolutional segments consisting of:\n",
        "  - A convolutional layer with \"valid\" padding and Relu activation and your choice of kernel size, number of filters and strides,\n",
        "  - An average pooling layer,\n",
        "* Then a fully connected layer with 128 neurons with ReLu activations.\n",
        "* Then a fully connected layer with 64 neurons and ReLu activations.\n",
        "* And ending with a softmax output layer.\n",
        "\n"
      ]
    },
    {
      "cell_type": "code",
      "execution_count": null,
      "metadata": {
        "id": "gsWa-EPcHewF",
        "colab": {
          "base_uri": "https://localhost:8080/"
        },
        "outputId": "335c53e3-9bdd-4a06-9d62-434016720f1a"
      },
      "outputs": [
        {
          "output_type": "stream",
          "name": "stdout",
          "text": [
            "Found 2227 images belonging to 47 classes.\n",
            "Found 529 images belonging to 47 classes.\n",
            "Epoch 1/30\n",
            "223/223 [==============================] - 16s 72ms/step - loss: 3.7997 - accuracy: 0.0584\n",
            "Epoch 2/30\n",
            "223/223 [==============================] - 15s 67ms/step - loss: 3.0076 - accuracy: 0.2290\n",
            "Epoch 3/30\n",
            "223/223 [==============================] - 17s 75ms/step - loss: 2.2341 - accuracy: 0.4127\n",
            "Epoch 4/30\n",
            "223/223 [==============================] - 14s 63ms/step - loss: 1.6495 - accuracy: 0.5541\n",
            "Epoch 5/30\n",
            "223/223 [==============================] - 14s 63ms/step - loss: 1.2156 - accuracy: 0.6695\n",
            "Epoch 6/30\n",
            "223/223 [==============================] - 14s 62ms/step - loss: 0.8133 - accuracy: 0.7710\n",
            "Epoch 7/30\n",
            "223/223 [==============================] - 15s 67ms/step - loss: 0.5595 - accuracy: 0.8415\n",
            "Epoch 8/30\n",
            "223/223 [==============================] - 14s 64ms/step - loss: 0.3862 - accuracy: 0.8891\n",
            "Epoch 9/30\n",
            "223/223 [==============================] - 15s 65ms/step - loss: 0.2275 - accuracy: 0.9286\n",
            "Epoch 10/30\n",
            "223/223 [==============================] - 16s 70ms/step - loss: 0.2511 - accuracy: 0.9349\n",
            "Epoch 11/30\n",
            "223/223 [==============================] - 14s 64ms/step - loss: 0.1842 - accuracy: 0.9430\n",
            "Epoch 12/30\n",
            "223/223 [==============================] - 14s 63ms/step - loss: 0.1174 - accuracy: 0.9686\n",
            "Epoch 13/30\n",
            "223/223 [==============================] - 14s 62ms/step - loss: 0.1149 - accuracy: 0.9717\n",
            "Epoch 14/30\n",
            "223/223 [==============================] - 14s 63ms/step - loss: 0.0883 - accuracy: 0.9793\n",
            "Epoch 15/30\n",
            "223/223 [==============================] - 14s 63ms/step - loss: 0.1440 - accuracy: 0.9605\n",
            "Epoch 16/30\n",
            "223/223 [==============================] - 15s 67ms/step - loss: 0.1222 - accuracy: 0.9659\n",
            "Epoch 17/30\n",
            "223/223 [==============================] - 14s 62ms/step - loss: 0.0812 - accuracy: 0.9802\n",
            "Epoch 18/30\n",
            "223/223 [==============================] - 14s 63ms/step - loss: 0.0416 - accuracy: 0.9919\n",
            "Epoch 19/30\n",
            "223/223 [==============================] - 14s 63ms/step - loss: 0.0281 - accuracy: 0.9933\n",
            "Epoch 20/30\n",
            "223/223 [==============================] - 14s 63ms/step - loss: 0.0306 - accuracy: 0.9924\n",
            "Epoch 21/30\n",
            "223/223 [==============================] - 14s 63ms/step - loss: 0.0351 - accuracy: 0.9919\n",
            "Epoch 22/30\n",
            "223/223 [==============================] - 14s 63ms/step - loss: 0.1348 - accuracy: 0.9672\n",
            "Epoch 23/30\n",
            "223/223 [==============================] - 14s 63ms/step - loss: 0.2131 - accuracy: 0.9380\n",
            "Epoch 24/30\n",
            "223/223 [==============================] - 14s 63ms/step - loss: 0.1409 - accuracy: 0.9632\n",
            "Epoch 25/30\n",
            "223/223 [==============================] - 14s 64ms/step - loss: 0.0746 - accuracy: 0.9793\n",
            "Epoch 26/30\n",
            "223/223 [==============================] - 15s 67ms/step - loss: 0.0438 - accuracy: 0.9915\n",
            "Epoch 27/30\n",
            "223/223 [==============================] - 14s 63ms/step - loss: 0.0307 - accuracy: 0.9919\n",
            "Epoch 28/30\n",
            "223/223 [==============================] - 14s 64ms/step - loss: 0.0237 - accuracy: 0.9942\n",
            "Epoch 29/30\n",
            "223/223 [==============================] - 15s 66ms/step - loss: 0.0178 - accuracy: 0.9942\n",
            "Epoch 30/30\n",
            "223/223 [==============================] - 14s 62ms/step - loss: 0.0131 - accuracy: 0.9955\n",
            "16/53 [========>.....................] - ETA: 2s - loss: 3.9701 - accuracy: 0.5750"
          ]
        },
        {
          "output_type": "stream",
          "name": "stderr",
          "text": [
            "/usr/local/lib/python3.7/dist-packages/PIL/Image.py:960: UserWarning: Palette images with Transparency expressed in bytes should be converted to RGBA images\n",
            "  \"Palette images with Transparency expressed in bytes should be \"\n"
          ]
        },
        {
          "output_type": "stream",
          "name": "stdout",
          "text": [
            "53/53 [==============================] - 4s 66ms/step - loss: 4.1168 - accuracy: 0.5463\n",
            "Accurancy: [4.116790294647217, 0.5463138222694397]\n"
          ]
        }
      ],
      "source": [
        "#TODO: Build, compile and train this network on the yoga pose training data. Maybe this one will be better...\n",
        "\n",
        "train_data = ImageDataGenerator(rescale=1./255)\n",
        "test_data = ImageDataGenerator(rescale=1./255)\n",
        "\n",
        "data_train = train_data.flow_from_directory(PATH_TO_YOGA_TRAIN_DATA, target_size = RESIZE, color_mode='rgb', batch_size=10, shuffle='true', class_mode='binary')\n",
        "data_test = test_data.flow_from_directory(PATH_TO_YOGA_TEST_DATA, target_size = RESIZE, color_mode='rgb', batch_size=10, shuffle='true', class_mode='binary')\n",
        "\n",
        "CNN = tf.keras.Sequential([  \n",
        "    #tf.keras.layers.Flatten(),\n",
        "    tf.keras.layers.Conv2D(16,(3,3), activation='relu', input_shape = (RESIZE[0], RESIZE[1] ,3), padding='valid'),\n",
        "    tf.keras.layers.MaxPool2D(2,2),\n",
        "    \n",
        "    tf.keras.layers.Conv2D(32,(3,3), activation='relu', padding='valid'),\n",
        "    tf.keras.layers.MaxPool2D(2,2),\n",
        "\n",
        "    tf.keras.layers.Conv2D(64,(3,3), activation='relu', padding='valid'),\n",
        "    tf.keras.layers.MaxPool2D(2,2),\n",
        "    tf.keras.layers.Flatten(),\n",
        "\n",
        "\n",
        "    tf.keras.layers.Dense(128, activation='relu'),\n",
        "    tf.keras.layers.Dense(64, activation='relu'),\n",
        "    tf.keras.layers.Dense(64, activation='softmax'),\n",
        "    ])\n",
        "\n",
        "CNN.compile(optimizer='adam', loss = tf.keras.losses.SparseCategoricalCrossentropy(from_logits=True), metrics = ['accuracy'])\n",
        "CNN.fit(data_train, epochs=30)\n",
        "\n",
        "print('Accurancy:', CNN.evaluate(data_test))"
      ]
    },
    {
      "cell_type": "markdown",
      "metadata": {
        "id": "ImJlwhxDcm1z"
      },
      "source": [
        "### Part B: Transfer Learning\n",
        "Now we are going to steal from a state-of-the-art [Xception](https://arxiv.org/abs/1610.02357) model. Luckily, tensorflow has this directly available to us and we are going to use transfer learning to tune this SoA model to our dataset. Therefore, run the following code block to build our base Xception model:"
      ]
    },
    {
      "cell_type": "code",
      "execution_count": null,
      "metadata": {
        "id": "pItcNDoZQz2Z"
      },
      "outputs": [],
      "source": [
        "# I'll setup your base model for you.\n",
        "from tensorflow.keras.applications import Xception\n",
        "\n",
        "base_model = Xception(\n",
        "    include_top=False,\n",
        "    weights='imagenet',\n",
        "    input_shape=(71,71,3)\n",
        ")\n",
        "base_model.trainable=False"
      ]
    },
    {
      "cell_type": "markdown",
      "metadata": {
        "id": "p6pRc41Gds2J"
      },
      "source": [
        "Now create a new model with this *base_model* as our first layer followed by:\n",
        "* Global average pooling layer,\n",
        "* A Dense layer with 256 neurons and ReLu activations,\n",
        "* A 40% Dropout layer,\n",
        "* A softmax output layer.\n",
        "\n",
        "Then fit this model on 30 epochs."
      ]
    },
    {
      "cell_type": "code",
      "execution_count": null,
      "metadata": {
        "id": "qGseIBQ9efhR"
      },
      "outputs": [],
      "source": [
        "#TODO: Finish the model\n",
        "model = tf.keras.Sequential([\n",
        "    base_model,\n",
        "    #TODO: Add other layers\n",
        "    tf.keras.layers.AveragePooling2D(2,2),\n",
        "    tf.keras.layers.Dense(256, activation='relu'),\n",
        "    tf.keras.layers.Dropout(0.4),\n",
        "    tf.keras.layers.Flatten(),\n",
        "    tf.keras.layers.Dense(64, activation='softmax')\n",
        "])\n",
        "\n",
        "#TODO: Compile model"
      ]
    },
    {
      "cell_type": "code",
      "execution_count": null,
      "metadata": {
        "id": "TesGjF0ser0f",
        "colab": {
          "base_uri": "https://localhost:8080/"
        },
        "outputId": "d295bfe7-abd9-48f6-beaf-1ec536e1ed00"
      },
      "outputs": [
        {
          "output_type": "stream",
          "name": "stdout",
          "text": [
            "Epoch 1/30\n",
            "223/223 [==============================] - 18s 68ms/step - loss: 3.4755 - accuracy: 0.1567\n",
            "Epoch 2/30\n",
            "223/223 [==============================] - 15s 67ms/step - loss: 2.3513 - accuracy: 0.3722\n",
            "Epoch 3/30\n",
            "223/223 [==============================] - 15s 68ms/step - loss: 1.8566 - accuracy: 0.4975\n",
            "Epoch 4/30\n",
            "223/223 [==============================] - 15s 68ms/step - loss: 1.4873 - accuracy: 0.5918\n",
            "Epoch 5/30\n",
            "223/223 [==============================] - 17s 78ms/step - loss: 1.2412 - accuracy: 0.6430\n",
            "Epoch 6/30\n",
            "223/223 [==============================] - 19s 85ms/step - loss: 0.9880 - accuracy: 0.7149\n",
            "Epoch 7/30\n",
            "223/223 [==============================] - 15s 68ms/step - loss: 0.8291 - accuracy: 0.7544\n",
            "Epoch 8/30\n",
            "223/223 [==============================] - 16s 72ms/step - loss: 0.6946 - accuracy: 0.7997\n",
            "Epoch 9/30\n",
            "223/223 [==============================] - 15s 68ms/step - loss: 0.5850 - accuracy: 0.8321\n",
            "Epoch 10/30\n",
            "223/223 [==============================] - 15s 68ms/step - loss: 0.4889 - accuracy: 0.8505\n",
            "Epoch 11/30\n",
            "223/223 [==============================] - 18s 79ms/step - loss: 0.4439 - accuracy: 0.8729\n",
            "Epoch 12/30\n",
            "223/223 [==============================] - 18s 83ms/step - loss: 0.3867 - accuracy: 0.8873\n",
            "Epoch 13/30\n",
            "223/223 [==============================] - 15s 68ms/step - loss: 0.3804 - accuracy: 0.8815\n",
            "Epoch 14/30\n",
            "223/223 [==============================] - 15s 67ms/step - loss: 0.3300 - accuracy: 0.9035\n",
            "Epoch 15/30\n",
            "223/223 [==============================] - 15s 68ms/step - loss: 0.2815 - accuracy: 0.9178\n",
            "Epoch 16/30\n",
            "223/223 [==============================] - 15s 68ms/step - loss: 0.2854 - accuracy: 0.9151\n",
            "Epoch 17/30\n",
            "223/223 [==============================] - 15s 68ms/step - loss: 0.2585 - accuracy: 0.9228\n",
            "Epoch 18/30\n",
            "223/223 [==============================] - 16s 73ms/step - loss: 0.2214 - accuracy: 0.9367\n",
            "Epoch 19/30\n",
            "223/223 [==============================] - 15s 68ms/step - loss: 0.2541 - accuracy: 0.9210\n",
            "Epoch 20/30\n",
            "223/223 [==============================] - 15s 68ms/step - loss: 0.2471 - accuracy: 0.9313\n",
            "Epoch 21/30\n",
            "223/223 [==============================] - 16s 72ms/step - loss: 0.2322 - accuracy: 0.9358\n",
            "Epoch 22/30\n",
            "223/223 [==============================] - 16s 70ms/step - loss: 0.2417 - accuracy: 0.9371\n",
            "Epoch 23/30\n",
            "223/223 [==============================] - 15s 68ms/step - loss: 0.2050 - accuracy: 0.9502\n",
            "Epoch 24/30\n",
            "223/223 [==============================] - 15s 68ms/step - loss: 0.1956 - accuracy: 0.9506\n",
            "Epoch 25/30\n",
            "223/223 [==============================] - 15s 69ms/step - loss: 0.1870 - accuracy: 0.9529\n",
            "Epoch 26/30\n",
            "223/223 [==============================] - 15s 68ms/step - loss: 0.1865 - accuracy: 0.9466\n",
            "Epoch 27/30\n",
            "223/223 [==============================] - 15s 68ms/step - loss: 0.1882 - accuracy: 0.9502\n",
            "Epoch 28/30\n",
            "223/223 [==============================] - 15s 68ms/step - loss: 0.1986 - accuracy: 0.9430\n",
            "Epoch 29/30\n",
            "223/223 [==============================] - 15s 68ms/step - loss: 0.1713 - accuracy: 0.9582\n",
            "Epoch 30/30\n",
            "223/223 [==============================] - 15s 68ms/step - loss: 0.1971 - accuracy: 0.9511\n"
          ]
        },
        {
          "output_type": "execute_result",
          "data": {
            "text/plain": [
              "<keras.callbacks.History at 0x7f4698825050>"
            ]
          },
          "metadata": {},
          "execution_count": 30
        }
      ],
      "source": [
        "model.compile(loss = tf.keras.losses.SparseCategoricalCrossentropy(from_logits=False), metrics=['accuracy'])\n",
        "#TODO: Fit the model on 30 epochs\n",
        "model.fit(data_train, epochs = 30)"
      ]
    },
    {
      "cell_type": "code",
      "source": [
        "print('Accuracy: ', model.evaluate(data_test))"
      ],
      "metadata": {
        "colab": {
          "base_uri": "https://localhost:8080/"
        },
        "id": "zUdML7oAEbpt",
        "outputId": "f9221d64-5ce4-48a2-e1eb-dca180b08b35"
      },
      "execution_count": null,
      "outputs": [
        {
          "output_type": "stream",
          "name": "stdout",
          "text": [
            "53/53 [==============================] - 4s 73ms/step - loss: 4.7057 - accuracy: 0.5028\n",
            "Accuracy:  [4.705686092376709, 0.5028355121612549]\n"
          ]
        }
      ]
    },
    {
      "cell_type": "markdown",
      "metadata": {
        "id": "hrER79ZPYH_8"
      },
      "source": [
        "### Part C: Build your Own Model\n",
        "So know that you know the range of accuracies between poorly built models and state-of-the-art models like Xception, can you improve on them? Attempt to build your own deep neural network architecture and see if you can do better than the base CNN model presented above or better yet the Xception model we transfer learned. You may use any architecture or configuration you like."
      ]
    },
    {
      "cell_type": "code",
      "source": [
        "train_data = ImageDataGenerator(rescale=1./255)\n",
        "test_data = ImageDataGenerator(rescale=1./255)\n",
        "\n",
        "data_train = train_data.flow_from_directory(PATH_TO_YOGA_TRAIN_DATA, target_size = RESIZE, color_mode='rgb', batch_size=10, shuffle='true', class_mode='binary')\n",
        "data_test = test_data.flow_from_directory(PATH_TO_YOGA_TEST_DATA, target_size = RESIZE, color_mode='rgb', batch_size=10, shuffle='true', class_mode='binary')"
      ],
      "metadata": {
        "colab": {
          "base_uri": "https://localhost:8080/"
        },
        "id": "NQU9iSqi-bgO",
        "outputId": "ebe9b603-bca7-43a5-bb16-b51dd37be585"
      },
      "execution_count": null,
      "outputs": [
        {
          "output_type": "stream",
          "name": "stdout",
          "text": [
            "Found 2227 images belonging to 47 classes.\n",
            "Found 529 images belonging to 47 classes.\n"
          ]
        }
      ]
    },
    {
      "cell_type": "code",
      "execution_count": null,
      "metadata": {
        "id": "532bbgSUY7EM"
      },
      "outputs": [],
      "source": [
        "from keras.backend import conv2d\n",
        "#TODO: Build and train your custom model and evaluate on the test data.\n",
        "model = tf.keras.Sequential([\n",
        "    \n",
        "    tf.keras.layers.Conv2D(128,(3,3), activation='relu'),\n",
        "    tf.keras.layers.MaxPool2D(2,2),\n",
        "   \n",
        "\n",
        "    tf.keras.layers.Conv2D(64,(3,3), activation='relu'),\n",
        "    tf.keras.layers.MaxPool2D(2,2),\n",
        "\n",
        "\n",
        "    tf.keras.layers.Flatten(),\n",
        "\n",
        "    tf.keras.layers.Dense(128, activation='relu'),\n",
        "    tf.keras.layers.Dense(64, activation='relu'),\n",
        "    tf.keras.layers.Dense(47, activation='softmax')\n",
        "    ])\n",
        "model.compile(loss = tf.keras.losses.SparseCategoricalCrossentropy(from_logits=False), metrics=['accuracy'])"
      ]
    },
    {
      "cell_type": "code",
      "source": [
        "model.fit(data_train, epochs = 30, validation_data=(data_test))"
      ],
      "metadata": {
        "id": "q3fXzHqNxu_Y",
        "colab": {
          "base_uri": "https://localhost:8080/"
        },
        "outputId": "4df1ee21-3f98-45ef-b98b-45c04232c6e9"
      },
      "execution_count": null,
      "outputs": [
        {
          "output_type": "stream",
          "name": "stdout",
          "text": [
            "Epoch 1/30\n",
            "223/223 [==============================] - ETA: 0s - loss: 3.6723 - accuracy: 0.0871"
          ]
        },
        {
          "output_type": "stream",
          "name": "stderr",
          "text": [
            "/usr/local/lib/python3.7/dist-packages/PIL/Image.py:960: UserWarning: Palette images with Transparency expressed in bytes should be converted to RGBA images\n",
            "  \"Palette images with Transparency expressed in bytes should be \"\n"
          ]
        },
        {
          "output_type": "stream",
          "name": "stdout",
          "text": [
            "\b\b\b\b\b\b\b\b\b\b\b\b\b\b\b\b\b\b\b\b\b\b\b\b\b\b\b\b\b\b\b\b\b\b\b\b\b\b\b\b\b\b\b\b\b\b\b\b\b\b\b\b\b\b\b\b\b\b\b\b\b\b\b\b\b\b\b\b\b\b\b\b\b\b\b\b\b\b\b\b\b\b\b\b\r223/223 [==============================] - 22s 87ms/step - loss: 3.6723 - accuracy: 0.0871 - val_loss: 3.0632 - val_accuracy: 0.2155\n",
            "Epoch 2/30\n",
            "223/223 [==============================] - 18s 81ms/step - loss: 2.4920 - accuracy: 0.3965 - val_loss: 2.4712 - val_accuracy: 0.3837\n",
            "Epoch 3/30\n",
            "223/223 [==============================] - 19s 85ms/step - loss: 1.5279 - accuracy: 0.6183 - val_loss: 2.4943 - val_accuracy: 0.4423\n",
            "Epoch 4/30\n",
            "223/223 [==============================] - 18s 81ms/step - loss: 0.8019 - accuracy: 0.7809 - val_loss: 2.7625 - val_accuracy: 0.4594\n",
            "Epoch 5/30\n",
            "223/223 [==============================] - 18s 81ms/step - loss: 0.4030 - accuracy: 0.8900 - val_loss: 3.4477 - val_accuracy: 0.4783\n",
            "Epoch 6/30\n",
            "223/223 [==============================] - 18s 80ms/step - loss: 0.2227 - accuracy: 0.9466 - val_loss: 4.2162 - val_accuracy: 0.4688\n",
            "Epoch 7/30\n",
            "223/223 [==============================] - 18s 81ms/step - loss: 0.1419 - accuracy: 0.9659 - val_loss: 5.2687 - val_accuracy: 0.4631\n",
            "Epoch 8/30\n",
            "223/223 [==============================] - 18s 80ms/step - loss: 0.0978 - accuracy: 0.9780 - val_loss: 5.7124 - val_accuracy: 0.4386\n",
            "Epoch 9/30\n",
            "223/223 [==============================] - 19s 85ms/step - loss: 0.1035 - accuracy: 0.9793 - val_loss: 5.4735 - val_accuracy: 0.4802\n",
            "Epoch 10/30\n",
            "223/223 [==============================] - 18s 83ms/step - loss: 0.0860 - accuracy: 0.9820 - val_loss: 4.8965 - val_accuracy: 0.4953\n",
            "Epoch 11/30\n",
            "223/223 [==============================] - 18s 81ms/step - loss: 0.0847 - accuracy: 0.9879 - val_loss: 6.2361 - val_accuracy: 0.4575\n",
            "Epoch 12/30\n",
            "223/223 [==============================] - 18s 81ms/step - loss: 0.0699 - accuracy: 0.9870 - val_loss: 5.2115 - val_accuracy: 0.4915\n",
            "Epoch 13/30\n",
            "223/223 [==============================] - 18s 80ms/step - loss: 0.0721 - accuracy: 0.9870 - val_loss: 5.1262 - val_accuracy: 0.4934\n",
            "Epoch 14/30\n",
            "223/223 [==============================] - 18s 81ms/step - loss: 0.1134 - accuracy: 0.9861 - val_loss: 5.7568 - val_accuracy: 0.4839\n",
            "Epoch 15/30\n",
            "223/223 [==============================] - 18s 81ms/step - loss: 0.0628 - accuracy: 0.9861 - val_loss: 6.0935 - val_accuracy: 0.4953\n",
            "Epoch 16/30\n",
            "223/223 [==============================] - 18s 80ms/step - loss: 0.0336 - accuracy: 0.9915 - val_loss: 8.5089 - val_accuracy: 0.4745\n",
            "Epoch 17/30\n",
            "223/223 [==============================] - 19s 84ms/step - loss: 0.0595 - accuracy: 0.9892 - val_loss: 6.6380 - val_accuracy: 0.4783\n",
            "Epoch 18/30\n",
            "223/223 [==============================] - 18s 81ms/step - loss: 0.0561 - accuracy: 0.9901 - val_loss: 7.2409 - val_accuracy: 0.4688\n",
            "Epoch 19/30\n",
            "223/223 [==============================] - 18s 82ms/step - loss: 0.0671 - accuracy: 0.9942 - val_loss: 7.3024 - val_accuracy: 0.4669\n",
            "Epoch 20/30\n",
            "223/223 [==============================] - 18s 81ms/step - loss: 0.0553 - accuracy: 0.9883 - val_loss: 7.0484 - val_accuracy: 0.4745\n",
            "Epoch 21/30\n",
            "223/223 [==============================] - 18s 81ms/step - loss: 0.0570 - accuracy: 0.9888 - val_loss: 6.1079 - val_accuracy: 0.4537\n",
            "Epoch 22/30\n",
            "223/223 [==============================] - 18s 81ms/step - loss: 0.0832 - accuracy: 0.9897 - val_loss: 7.5894 - val_accuracy: 0.4594\n",
            "Epoch 23/30\n",
            "223/223 [==============================] - 18s 81ms/step - loss: 0.0586 - accuracy: 0.9888 - val_loss: 8.6753 - val_accuracy: 0.4726\n",
            "Epoch 24/30\n",
            "223/223 [==============================] - 18s 81ms/step - loss: 0.0550 - accuracy: 0.9897 - val_loss: 7.4541 - val_accuracy: 0.4612\n",
            "Epoch 25/30\n",
            "223/223 [==============================] - 18s 81ms/step - loss: 0.0672 - accuracy: 0.9883 - val_loss: 9.1401 - val_accuracy: 0.4631\n",
            "Epoch 26/30\n",
            "223/223 [==============================] - 19s 85ms/step - loss: 0.0395 - accuracy: 0.9924 - val_loss: 8.7495 - val_accuracy: 0.4745\n",
            "Epoch 27/30\n",
            "223/223 [==============================] - 18s 83ms/step - loss: 0.0427 - accuracy: 0.9919 - val_loss: 7.4790 - val_accuracy: 0.4575\n",
            "Epoch 28/30\n",
            "223/223 [==============================] - 18s 81ms/step - loss: 0.0445 - accuracy: 0.9919 - val_loss: 7.0004 - val_accuracy: 0.4669\n",
            "Epoch 29/30\n",
            "223/223 [==============================] - 18s 80ms/step - loss: 0.0435 - accuracy: 0.9906 - val_loss: 8.2791 - val_accuracy: 0.4631\n",
            "Epoch 30/30\n",
            "223/223 [==============================] - 18s 81ms/step - loss: 0.0592 - accuracy: 0.9892 - val_loss: 9.0977 - val_accuracy: 0.4461\n"
          ]
        },
        {
          "output_type": "execute_result",
          "data": {
            "text/plain": [
              "<keras.callbacks.History at 0x7ff3b5a8f990>"
            ]
          },
          "metadata": {},
          "execution_count": 29
        }
      ]
    },
    {
      "cell_type": "code",
      "source": [
        "print('Accuracy: ', model.evaluate(data_test))"
      ],
      "metadata": {
        "colab": {
          "base_uri": "https://localhost:8080/"
        },
        "id": "h7c4KecRHlNm",
        "outputId": "2d2866ed-6781-4d71-e8d9-3d6ae6ababec"
      },
      "execution_count": null,
      "outputs": [
        {
          "output_type": "stream",
          "name": "stdout",
          "text": [
            "53/53 [==============================] - 4s 67ms/step - loss: 9.0977 - accuracy: 0.4461\n",
            "Accuracy:  [9.097661018371582, 0.44612476229667664]\n"
          ]
        }
      ]
    },
    {
      "cell_type": "markdown",
      "metadata": {
        "id": "8PQQIKToY53y"
      },
      "source": [
        "### Part D: Compete!\n",
        "To enter the class competition for the best model save out your model as a H5 file and upload it to your assignment repo using the following code block."
      ]
    },
    {
      "cell_type": "code",
      "execution_count": null,
      "metadata": {
        "id": "Ns7XFPYBZAFs"
      },
      "outputs": [],
      "source": [
        "#TODO: Save your tensorflow model with:\n",
        "model.save('/content/drive/MyDrive/models/yoga-cnn.h5')\n",
        "#TODO: Download your model from Google Drive and upload that saved file to your github assignment repo when you submit your assignment."
      ]
    }
  ],
  "metadata": {
    "accelerator": "GPU",
    "colab": {
      "collapsed_sections": [
        "aFcqjf9VXHfF"
      ],
      "provenance": [],
      "include_colab_link": true
    },
    "kernelspec": {
      "display_name": "Python 3",
      "language": "python",
      "name": "python3"
    },
    "language_info": {
      "codemirror_mode": {
        "name": "ipython",
        "version": 3
      },
      "file_extension": ".py",
      "mimetype": "text/x-python",
      "name": "python",
      "nbconvert_exporter": "python",
      "pygments_lexer": "ipython3",
      "version": "3.8.3"
    }
  },
  "nbformat": 4,
  "nbformat_minor": 0
}